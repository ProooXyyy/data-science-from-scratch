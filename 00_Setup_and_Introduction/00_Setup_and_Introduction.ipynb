{
 "cells": [
  {
   "cell_type": "markdown",
   "metadata": {},
   "source": [
    "# Module 0: Setting Up Your Data Science Environment\n",
    "\n",
    "Welcome to **Data Science From Scratch**! Before we dive into Python and machine learning, we need to set up a clean and powerful development environment. This is the single most important step to ensure a smooth learning journey. 🚀\n",
    "\n",
    "**In this notebook, we will:**\n",
    "1.  Install Python using the Anaconda distribution.\n",
    "2.  Set up Visual Studio Code (VS Code) as our code editor.\n",
    "3.  Create an isolated virtual environment.\n",
    "4.  Install the essential data science libraries.\n",
    "5.  Verify that everything is working correctly."
   ]
  },
  {
   "cell_type": "markdown",
   "metadata": {},
   "source": [
    "## Step 1: Install Python via Anaconda\n",
    "\n",
    "While you can install Python directly from python.org, we **highly recommend** using the **Anaconda Distribution**.\n",
    "\n",
    "**Why Anaconda?**\n",
    "* **It's an all-in-one package:** Anaconda comes with Python, a powerful package manager (`conda`), Jupyter Notebook, and hundreds of the most popular data science libraries pre-installed.\n",
    "* **Simplifies Environment Management:** It makes handling different project dependencies much easier.\n",
    "\n",
    "➡️ **Action:** [Download and install the Anaconda Distribution for your operating system (Windows, macOS, or Linux).](https://www.anaconda.com/download)\n",
    "\n",
    "*Select the latest Python 3.x version during installation.*\n",
    "\n"
   ]
  },
  {
   "cell_type": "markdown",
   "metadata": {},
   "source": [
    "## Step 2: Set Up Visual Studio Code (VS Code)\n",
    "\n",
    "VS Code is a modern, free, and highly versatile code editor that has excellent support for Python and Jupyter Notebooks.\n",
    "\n",
    "➡️ **Action:** [Download and install VS Code.](https://code.visualstudio.com/download)\n",
    "\n",
    "#### Install Essential Extensions\n",
    "\n",
    "Once VS Code is installed, you need to add extensions to make it powerful for data science. Go to the Extensions view (`Ctrl+Shift+X`) and install the following:\n",
    "\n",
    "1.  **Python** (by Microsoft): This provides IntelliSense, linting, debugging, and more.\n",
    "2.  **Jupyter** (by Microsoft): This allows you to work with `.ipynb` notebooks directly within VS Code."
   ]
  },
  {
   "cell_type": "markdown",
   "metadata": {},
   "source": [
    "## Step 3: Create a Virtual Environment\n",
    "\n",
    "A virtual environment is a self-contained directory that holds a specific Python interpreter and its own set of installed libraries. This prevents conflicts between different projects.\n",
    "\n",
    "➡️ **Action:** Open the terminal in VS Code (`View > Terminal` or `` ` ``) and run the following commands.\n",
    "\n",
    "**1. Create the environment (we'll name it `dsfs_env`):**\n",
    "\n",
    "```bash\n",
    "conda create --name dsfs_env python=3.10 -y\n",
    "```\n",
    "\n",
    "**2. Activate the environment:**\n",
    "\n",
    "```bash\n",
    "conda activate dsfs_env\n",
    "```\n",
    "\n",
    "You'll know it's active because your terminal prompt will change to show `(dsfs_env)`.\n",
    "\n",
    "**3. Connect VS Code to the environment:**\n",
    "\n",
    "Open the command palette (`Ctrl+Shift+P`), type `Python: Select Interpreter`, and choose the one that has `('dsfs_env')` in its path."
   ]
  },
  {
   "cell_type": "markdown",
   "metadata": {},
   "source": [
    "## Step 4: Install Core Data Science Libraries\n",
    "\n",
    "With your `dsfs_env` environment active, let's install the fundamental libraries we'll be using throughout this course.\n",
    "\n",
    "➡️ **Action:** Run the following command in your active terminal.\n",
    "\n",
    "```bash\n",
    "pip install numpy pandas matplotlib seaborn scikit-learn notebook\n",
    "```\n",
    "\n",
    "**What are these libraries?**\n",
    "* **`numpy`**: For numerical operations and working with arrays.\n",
    "* **`pandas`**: For data manipulation and analysis (think Excel on steroids).\n",
    "* **`matplotlib` & `seaborn`**: For creating static, animated, and interactive visualizations.\n",
    "* **`scikit-learn`**: The go-to library for machine learning algorithms.\n",
    "* **`notebook`**: The package that allows Jupyter to run."
   ]
  },
  {
   "cell_type": "markdown",
   "metadata": {},
   "source": [
    "## Step 5: Verify Your Installation\n",
    "\n",
    "Let's run a quick piece of code to make sure all our libraries are installed and accessible within the notebook.\n",
    "\n",
    "➡️ **Action:** Run the code cell below. You can do this by clicking the 'Run' icon next to the cell or by pressing `Shift + Enter`."
   ]
  },
  {
   "cell_type": "code",
   "execution_count": null,
   "metadata": {},
   "outputs": [],
   "source": [
    "import numpy as np\n",
    "import pandas as pd\n",
    "import matplotlib\n",
    "import seaborn as sns\n",
    "import sklearn\n",
    "\n",
    "print(f\"NumPy version: {np.__version__}\")\n",
    "print(f\"Pandas version: {pd.__version__}\")\n",
    "print(f\"Matplotlib version: {matplotlib.__version__}\")\n",
    "print(f\"Seaborn version: {sns.__version__}\")\n",
    "print(f\"Scikit-learn version: {sklearn.__version__}\")"
   ]
  },
  {
   "cell_type": "markdown",
   "metadata": {},
   "source": [
    "## ✅ All Done!\n",
    "\n",
    "If the cell above ran without errors and printed the version numbers for each library, then your environment is perfectly set up and ready for your data science journey!\n",
    "\n",
    "You are now ready to move on to the next module "
   ]
  }
 ],
 "metadata": {
  "kernelspec": {
   "display_name": "Python 3",
   "language": "python",
   "name": "python3"
  },
  "language_info": {
   "codemirror_mode": {
    "name": "ipython",
    "version": 3
   },
   "file_extension": ".py",
   "mimetype": "text/x-python",
   "name": "python",
   "nbconvert_exporter": "python",
   "pygments_lexer": "ipython3",
   "version": "3.13.5"
  }
 },
 "nbformat": 4,
 "nbformat_minor": 4
}
