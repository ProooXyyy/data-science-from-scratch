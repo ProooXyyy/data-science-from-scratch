{
 "cells": [
  {
   "cell_type": "markdown",
   "metadata": {},
   "source": [
    "# Module 2.2: Intro to Pandas - Series and DataFrames\n",
    "\n",
    "If NumPy is the foundation for numerical data, **Pandas** is the ultimate tool for real-world data analysis and manipulation. It introduces two powerful data structures, the **Series** and the **DataFrame**, which allow us to work with labeled and relational data in an intuitive way. 🐼\n",
    "\n",
    "Think of Pandas as bringing the power of spreadsheets or SQL tables directly into Python, but with far more flexibility and power.\n",
    "\n",
    "**Goal of this Notebook:**\n",
    "This notebook introduces the two core components of Pandas:\n",
    "\n",
    "1.  **Series:** A 1D labeled array (like a single column in a spreadsheet).\n",
    "2.  **DataFrame:** A 2D labeled data structure with columns of potentially different types (like a whole spreadsheet).\n",
    "3.  How to create and inspect these objects."
   ]
  },
  {
   "cell_type": "code",
   "execution_count": null,
   "metadata": {},
   "outputs": [],
   "source": [
    "import numpy as np\n",
    "import pandas as pd"
   ]
  },
  {
   "cell_type": "markdown",
   "metadata": {},
   "source": [
    "## 1. The Pandas Series\n",
    "\n",
    "A Series is a one-dimensional array-like object that can hold any data type. What makes it special is its **index**, which is a set of labels for the data."
   ]
  },
  {
   "cell_type": "code",
   "execution_count": null,
   "metadata": {},
   "outputs": [],
   "source": [
    "# Creating a Series from a Python list\n",
    "labels = ['a', 'b', 'c']\n",
    "data = [10, 20, 30]\n",
    "\n",
    "my_series = pd.Series(data=data, index=labels)\n",
    "\n",
    "print(my_series)"
   ]
  },
  {
   "cell_type": "code",
   "execution_count": null,
   "metadata": {},
   "outputs": [],
   "source": [
    "# You can access data using its label\n",
    "print(f\"Value at label 'b' is: {my_series['b']}\")"
   ]
  },
  {
   "cell_type": "markdown",
   "metadata": {},
   "source": [
    "## 2. The Pandas DataFrame\n",
    "\n",
    "The DataFrame is the real workhorse of Pandas. It's a 2D table of data where each column can be a different data type. It has both a row index and a column index.\n",
    "\n",
    "You can think of a DataFrame as a collection of Series that share the same index."
   ]
  },
  {
   "cell_type": "markdown",
   "metadata": {},
   "source": [
    "### Creating a DataFrame"
   ]
  },
  {
   "cell_type": "code",
   "execution_count": null,
   "metadata": {},
   "outputs": [],
   "source": [
    "# Let's create a DataFrame from a dictionary of lists\n",
    "data = {\n",
    "    'Name': ['Alice', 'Bob', 'Charlie'],\n",
    "    'Age': [25, 30, 28],\n",
    "    'City': ['New York', 'Paris', 'London']\n",
    "}\n",
    "\n",
    "df = pd.DataFrame(data)\n",
    "\n",
    "# Displaying the DataFrame\n",
    "df"
   ]
  },
  {
   "cell_type": "markdown",
   "metadata": {},
   "source": [
    "### Basic DataFrame Operations"
   ]
  },
  {
   "cell_type": "code",
   "execution_count": null,
   "metadata": {},
   "outputs": [],
   "source": [
    "# Select a single column (this returns a Series!)\n",
    "df['Age']"
   ]
  },
  {
   "cell_type": "code",
   "execution_count": null,
   "metadata": {},
   "outputs": [],
   "source": [
    "# Create a new column\n",
    "# Let's add a 'Salary' column\n",
    "df['Salary'] = [70000, 85000, 80000]\n",
    "\n",
    "df"
   ]
  },
  {
   "cell_type": "code",
   "execution_count": null,
   "metadata": {},
   "outputs": [],
   "source": [
    "# Get the first few rows of the DataFrame\n",
    "df.head(2) # Shows the first 2 rows"
   ]
  },
  {
   "cell_type": "code",
   "execution_count": null,
   "metadata": {},
   "outputs": [],
   "source": [
    "# Get a quick summary of the DataFrame\n",
    "# This is useful for checking data types and missing values\n",
    "df.info()"
   ]
  },
  {
   "cell_type": "code",
   "execution_count": null,
   "metadata": {},
   "outputs": [],
   "source": [
    "# Get descriptive statistics for numerical columns\n",
    "df.describe()"
   ]
  },
  {
   "cell_type": "markdown",
   "metadata": {},
   "source": [
    "## ✅ What's Next?\n",
    "\n",
    "You've now been introduced to the fundamental building blocks of Pandas. With this knowledge, you are ready to start working with real datasets.\n",
    "\n",
    "In the next notebook, we'll cover the most critical and common task in any data science project: **Data Cleaning**. We'll learn how to handle missing values, duplicates, and incorrect data types using a real dataset."
   ]
  }
 ],
 "metadata": {
  "kernelspec": {
   "display_name": "Python 3",
   "language": "python",
   "name": "python3"
  },
  "language_info": {
   "codemirror_mode": {
    "name": "ipython",
    "version": 3
   },
   "file_extension": ".py",
   "mimetype": "text/x-python",
   "name": "python",
   "nbconvert_exporter": "python",
   "pygments_lexer": "ipython3",
   "version": "3.10.9"
  }
 },
 "nbformat": 4,
 "nbformat_minor": 4
}