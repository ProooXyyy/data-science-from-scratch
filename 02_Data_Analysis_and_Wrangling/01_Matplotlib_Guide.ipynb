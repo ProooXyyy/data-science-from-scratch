{
 "cells": [
  {
   "cell_type": "markdown",
   "metadata": {},
   "source": [
    "# Module 3.1: Data Visualization with Matplotlib\n",
    "\n",
    "Welcome to the world of data visualization! After cleaning our data, the next step is to explore it visually. A good chart can reveal patterns, outliers, and insights that are impossible to see in a table of numbers. 📈\n",
    "\n",
    "**Matplotlib** is the original and most fundamental plotting library in Python. While other libraries like Seaborn are built on top of it to make plotting easier, understanding Matplotlib gives you the power to customize every single detail of your plots.\n",
    "\n",
    "**Goal of this Notebook:**\n",
    "We will learn the basic anatomy of a Matplotlib plot and how to create the most common chart types:\n",
    "\n",
    "1.  Line Plots\n",
    "2.  Bar Charts\n",
    "3.  Scatter Plots\n"
   ]
  },
  {
   "cell_type": "markdown",
   "metadata": {},
   "source": [
    "It's standard practice to import the `pyplot` module from Matplotlib with the alias `plt`."
   ]
  },
  {
   "cell_type": "code",
   "execution_count": null,
   "metadata": {},
   "outputs": [],
   "source": [
    "import matplotlib.pyplot as plt\n",
    "import numpy as np\n",
    "\n",
    "# This magic command ensures plots are displayed inline in the notebook\n",
    "%matplotlib inline"
   ]
  },
  {
   "cell_type": "markdown",
   "metadata": {},
   "source": [
    "## 1. Line Plots\n",
    "\n",
    "Line plots are excellent for showing a trend over a continuous sequence, like time."
   ]
  },
  {
   "cell_type": "code",
   "execution_count": null,
   "metadata": {},
   "outputs": [],
   "source": [
    "# Sample data: Temperature over a week\n",
    "days = np.array([1, 2, 3, 4, 5, 6, 7])\n",
    "temperature = np.array([15, 18, 17, 20, 22, 21, 19])\n",
    "\n",
    "# Create the plot\n",
    "plt.plot(days, temperature)\n",
    "\n",
    "# Add labels and a title for clarity\n",
    "plt.title('Weekly Temperature Trend')\n",
    "plt.xlabel('Day of the Week')\n",
    "plt.ylabel('Temperature (°C)')\n",
    "\n",
    "# Display the plot\n",
    "plt.show()"
   ]
  },
  {
   "cell_type": "markdown",
   "metadata": {},
   "source": [
    "## 2. Bar Charts\n",
    "\n",
    "Bar charts are perfect for comparing quantities across different categories."
   ]
  },
  {
   "cell_type": "code",
   "execution_count": null,
   "metadata": {},
   "outputs": [],
   "source": [
    "# Sample data: Number of pets sold by a store\n",
    "pet_categories = ['Dogs', 'Cats', 'Fish', 'Birds']\n",
    "number_sold = [30, 25, 50, 15]\n",
    "\n",
    "# Create the bar chart\n",
    "plt.bar(pet_categories, number_sold)\n",
    "\n",
    "# Add labels and title\n",
    "plt.title('Pet Store Sales')\n",
    "plt.xlabel('Pet Category')\n",
    "plt.ylabel('Number Sold')\n",
    "\n",
    "plt.show()"
   ]
  },
  {
   "cell_type": "markdown",
   "metadata": {},
   "source": [
    "## 3. Scatter Plots\n",
    "\n",
    "Scatter plots are used to observe the relationship between two numerical variables. They are essential for identifying correlations."
   ]
  },
  {
   "cell_type": "code",
   "execution_count": null,
   "metadata": {},
   "outputs": [],
   "source": [
    "# Sample data: A student's hours of study vs. their exam score\n",
    "hours_studied = [1, 2, 3, 4, 5, 6, 7, 8]\n",
    "exam_score = [55, 60, 62, 75, 80, 88, 90, 94]\n",
    "\n",
    "# Create the scatter plot\n",
    "plt.scatter(hours_studied, exam_score)\n",
    "\n",
    "plt.title('Study Hours vs. Exam Score')\n",
    "plt.xlabel('Hours Studied')\n",
    "plt.ylabel('Exam Score (%)')\n",
    "\n",
    "plt.show()"
   ]
  },
  {
   "cell_type": "markdown",
   "metadata": {},
   "source": [
    "## ✅ What's Next?\n",
    "\n",
    "You've learned the fundamentals of creating basic plots with Matplotlib. You can now create line, bar, and scatter plots and customize them with titles and labels.\n",
    "\n",
    "While Matplotlib is powerful, it can sometimes be verbose. In the next notebook, we'll learn about **Seaborn**, a library built on top of Matplotlib that allows us to create more statistically sophisticated and aesthetically pleasing plots with less code."
   ]
  }
 ],
 "metadata": {
  "kernelspec": {
   "display_name": "Python 3",
   "language": "python",
   "name": "python3"
  },
  "language_info": {
   "codemirror_mode": {
    "name": "ipython",
    "version": 3
   },
   "file_extension": ".py",
   "mimetype": "text/x-python",
   "name": "python",
   "nbconvert_exporter": "python",
   "pygments_lexer": "ipython3",
   "version": "3.10.9"
  }
 },
 "nbformat": 4,
 "nbformat_minor": 4
}