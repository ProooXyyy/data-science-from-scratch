{
 "cells": [
  {
   "cell_type": "markdown",
   "metadata": {},
   "source": [
    "# Module 2.1: NumPy in Depth\n",
    "\n",
    "Welcome to the data analysis module! We'll start with a deeper look at **NumPy**, the fundamental package for numerical computing in Python. While we used it for basic linear algebra and stats, its true power lies in its core data structure: the **N-dimensional array (`ndarray`)**. 🔢\n",
    "\n",
    "**Why is NumPy so important?**\n",
    "* **Performance:** NumPy operations are implemented in C, making them incredibly fast—orders of magnitude faster than standard Python lists for mathematical tasks.\n",
    "* **Convenience:** It allows you to perform complex array operations (like filtering, transforming, and aggregating) in a single, readable line of code.\n",
    "* **Foundation:** Almost every other data science library, including Pandas, is built on top of NumPy.\n",
    "\n",
    "**Goal of this Notebook:**\n",
    "We'll go beyond `np.array()` and learn the most common and powerful NumPy features:\n",
    "\n",
    "1.  Creating NumPy Arrays efficiently.\n",
    "2.  Indexing and Slicing (selecting specific data).\n",
    "3.  Conditional Selection (Boolean Indexing).\n",
    "4.  Performing Universal Functions (`ufuncs`)."
   ]
  },
  {
   "cell_type": "code",
   "execution_count": null,
   "metadata": {},
   "outputs": [],
   "source": [
    "import numpy as np"
   ]
  },
  {
   "cell_type": "markdown",
   "metadata": {},
   "source": [
    "## 1. Creating NumPy Arrays\n",
    "\n",
    "Besides creating arrays from Python lists, NumPy provides several handy functions for generating arrays from scratch."
   ]
  },
  {
   "cell_type": "code",
   "execution_count": null,
   "metadata": {},
   "outputs": [],
   "source": [
    "# Create an array of a specific range of numbers\n",
    "# np.arange(start, stop, step)\n",
    "range_array = np.arange(0, 10, 2) # From 0 up to (but not including) 10, in steps of 2\n",
    "print(f\"Array from arange: {range_array}\\n\")\n",
    "\n",
    "# Create an array of zeros or ones\n",
    "# Useful for initializing arrays before you fill them with data\n",
    "zeros_array = np.zeros((2, 3)) # A 2x3 matrix of zeros\n",
    "print(f\"Zeros array:\\n{zeros_array}\\n\")\n",
    "\n",
    "# Create an array of evenly spaced numbers over a specified interval\n",
    "# np.linspace(start, stop, num_points)\n",
    "linspace_array = np.linspace(0, 10, 5) # 5 points from 0 to 10 (inclusive)\n",
    "print(f\"Linspace array: {linspace_array}\\n\")\n",
    "\n",
    "# Create an identity matrix\n",
    "identity_matrix = np.eye(3)\n",
    "print(f\"Identity matrix:\\n{identity_matrix}\\n\")\n",
    "\n",
    "# Create an array of random numbers\n",
    "random_array = np.random.rand(3, 2) # A 3x2 matrix of random values between 0 and 1\n",
    "print(f\"Random array:\\n{random_array}\")"
   ]
  },
  {
   "cell_type": "markdown",
   "metadata": {},
   "source": [
    "## 2. Indexing and Slicing\n",
    "\n",
    "This is the process of selecting and retrieving subsets of data from a NumPy array. The syntax is powerful and concise."
   ]
  },
  {
   "cell_type": "code",
   "execution_count": null,
   "metadata": {},
   "outputs": [],
   "source": [
    "# Let's create a sample 2D array (a matrix)\n",
    "matrix = np.array([[10, 20, 30], [40, 50, 60], [70, 80, 90]])\n",
    "print(f\"Original Matrix:\\n{matrix}\\n\")\n",
    "\n",
    "# Get a single element [row, column]\n",
    "element = matrix[1, 2] # Row 1, Column 2\n",
    "print(f\"Element at [1, 2]: {element}\\n\")\n",
    "\n",
    "# Get an entire row\n",
    "row = matrix[0] # Get the first row\n",
    "print(f\"First row: {row}\\n\")\n",
    "\n",
    "# Slicing: Get a sub-matrix\n",
    "# syntax: array[start_row:end_row, start_col:end_col]\n",
    "sub_matrix = matrix[:2, 1:] # First 2 rows, from column 1 to the end\n",
    "print(f\"Sub-matrix (top right):\\n{sub_matrix}\")"
   ]
  },
  {
   "cell_type": "markdown",
   "metadata": {},
   "source": [
    "## 3. Conditional Selection (Boolean Indexing)\n",
    "\n",
    "This is one of NumPy's most powerful features. It lets you select elements from an array based on a condition."
   ]
  },
  {
   "cell_type": "code",
   "execution_count": null,
   "metadata": {},
   "outputs": [],
   "source": [
    "arr = np.arange(1, 11) # Array from 1 to 10\n",
    "print(f\"Original array: {arr}\\n\")\n",
    "\n",
    "# First, we create a boolean array based on a condition\n",
    "bool_arr = arr > 5\n",
    "print(f\"Boolean mask (arr > 5): {bool_arr}\\n\")\n",
    "\n",
    "# Now, we use this boolean array to select elements from the original array\n",
    "# It will only return the elements where the boolean mask is True\n",
    "filtered_arr = arr[bool_arr]\n",
    "print(f\"Elements greater than 5: {filtered_arr}\\n\")\n",
    "\n",
    "# You can also do this in a single line\n",
    "print(f\"Elements less than 4: {arr[arr < 4]}\")"
   ]
  },
  {
   "cell_type": "markdown",
   "metadata": {},
   "source": [
    "## 4. Universal Functions (ufuncs)\n",
    "\n",
    "NumPy `ufuncs` are functions that operate on `ndarrays` in an element-by-element fashion. They are incredibly fast.\n"
   ]
  },
  {
   "cell_type": "code",
   "execution_count": null,
   "metadata": {},
   "outputs": [],
   "source": [
    "arr = np.arange(1, 6)\n",
    "print(f\"Original array: {arr}\\n\")\n",
    "\n",
    "# Basic arithmetic ufuncs\n",
    "print(f\"Array + 100: {arr + 100}\")\n",
    "print(f\"Array squared: {arr ** 2}\\n\")\n",
    "\n",
    "# Mathematical ufuncs\n",
    "print(f\"Square root of array: {np.sqrt(arr)}\")\n",
    "print(f\"Sine of array: {np.sin(arr)}\")"
   ]
  },
  {
   "cell_type": "markdown",
   "metadata": {},
   "source": [
    "## ✅ What's Next?\n",
    "\n",
    "You now have a strong command of NumPy's core functionalities. This understanding is the perfect springboard for learning **Pandas**, the most important data analysis library in Python.\n",
    "\n",
    "In the next notebook, we will introduce the Pandas **Series** and **DataFrame**, the workhorses of data manipulation."
   ]
  }
 ],
 "metadata": {
  "kernelspec": {
   "display_name": "Python 3",
   "language": "python",
   "name": "python3"
  },
  "language_info": {
   "codemirror_mode": {
    "name": "ipython",
    "version": 3
   },
   "file_extension": ".py",
   "mimetype": "text/x-python",
   "name": "python",
   "nbconvert_exporter": "python",
   "pygments_lexer": "ipython3",
   "version": "3.10.9"
  }
 },
 "nbformat": 4,
 "nbformat_minor": 4
}