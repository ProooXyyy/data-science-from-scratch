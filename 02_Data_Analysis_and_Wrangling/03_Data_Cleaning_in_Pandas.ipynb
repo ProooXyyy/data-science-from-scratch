{
 "cells": [
  {
   "cell_type": "markdown",
   "metadata": {},
   "source": [
    "# Module 2.3: Data Cleaning with Pandas\n",
    "\n",
    "Welcome to one of the most important and practical topics in data science. It's often said that data scientists spend **80% of their time cleaning data**. 🧹\n",
    "\n",
    "Real-world data is messy. It has missing values, duplicates, and incorrect data types. Before we can analyze data or build models, we must first clean it. This process is also known as **Data Wrangling** or **Data Munging**.\n",
    "\n",
    "**Goal of this Notebook:**\n",
    "We will learn the most common data cleaning operations using Pandas:\n",
    "\n",
    "1.  Loading an external dataset (`.csv` file).\n",
    "2.  Handling Missing Values (NaNs).\n",
    "3.  Dealing with Duplicate Data.\n",
    "4.  Applying functions to transform data."
   ]
  },
  {
   "cell_type": "markdown",
   "metadata": {},
   "source": [
    "## 1. Loading a CSV File\n",
    "\n",
    "For this notebook, we'll use a `sales_data.csv` file. First, you need to create this file inside the `data` subfolder of this module.\n",
    "\n",
    "➡️ **Action:** Inside the `02_Data_Analysis_and_Wrangling/data/` folder, create a new file named `sales_data.csv` and paste the following content into it:\n",
    "\n",
    "```csv\n",
    "OrderID,Product,Category,Price,Quantity,Date\n",
    "1,Laptop,Electronics,1200,1,2023-01-15\n",
    "2,Mouse,Electronics,,3,2023-01-16\n",
    "3,Keyboard,Electronics,75,2,2023-01-17\n",
    "4,T-Shirt,Apparel,25,5,2023-01-18\n",
    "5,Socks,Apparel,10,10,2023-01-19\n",
    "6,Laptop,Electronics,1200,1,2023-01-20\n",
    "7,Book,Books,15,,2023-01-21\n",
    "8,Pen,Office,2,50,2023-01-22\n",
    "9,T-Shirt,Apparel,25,5,2023-01-18\n",
    "```\n",
    "\n",
    "Now, we can load this data into a Pandas DataFrame."
   ]
  },
  {
   "cell_type": "code",
   "execution_count": null,
   "metadata": {},
   "outputs": [],
   "source": [
    "import pandas as pd\n",
    "\n",
    "# Load the dataset\n",
    "df = pd.read_csv('data/sales_data.csv')\n",
    "\n",
    "# Display the DataFrame to see our messy data\n",
    "df"
   ]
  },
  {
   "cell_type": "markdown",
   "metadata": {},
   "source": [
    "## 2. Handling Missing Values\n",
    "\n",
    "Notice the `NaN` (Not a Number) values in the `Price` and `Quantity` columns. These are missing values. We can't perform calculations on them, so we need to handle them.\n",
    "\n",
    "Common strategies include:\n",
    "* **Dropping:** Removing the rows or columns with missing values.\n",
    "* **Filling (Imputing):** Replacing missing values with another value (e.g., the mean, median, or a specific number)."
   ]
  },
  {
   "cell_type": "code",
   "execution_count": null,
   "metadata": {},
   "outputs": [],
   "source": [
    "# Check for missing values\n",
    "df.isnull().sum()"
   ]
  },
  {
   "cell_type": "code",
   "execution_count": null,
   "metadata": {},
   "source": [
    "# Let's fill the missing 'Price' with the average price of all other products\n",
    "mean_price = df['Price'].mean()\n",
    "df['Price'].fillna(value=mean_price, inplace=True)\n",
    "\n",
    "# Let's fill the missing 'Quantity' with a logical value, like 1\n",
    "df['Quantity'].fillna(value=1, inplace=True)\n",
    "\n",
    "# Check the DataFrame again\n",
    "df"
   ],
   "outputs": []
  },
  {
   "cell_type": "markdown",
   "metadata": {},
   "source": [
    "## 3. Dealing with Duplicate Data\n",
    "\n",
    "Look at OrderID 4 and 9. They are identical, representing a duplicate entry in our data. Duplicates can skew our analysis and should be removed."
   ]
  },
  {
   "cell_type": "code",
   "execution_count": null,
   "metadata": {},
   "outputs": [],
   "source": [
    "# The duplicated() method identifies duplicate rows\n",
    "df.duplicated()"
   ]
  },
  {
   "cell_type": "code",
   "execution_count": null,
   "metadata": {},
   "outputs": [],
   "source": [
    "# We can drop these duplicates\n",
    "df.drop_duplicates(inplace=True)\n",
    "\n",
    "# Display the cleaned DataFrame\n",
    "# Notice that row 8 (the second T-Shirt entry) is now gone.\n",
    "df"
   ]
  },
  {
   "cell_type": "markdown",
   "metadata": {},
   "source": [
    "## 4. Applying Functions to Transform Data\n",
    "\n",
    "Often, we need to create new columns based on existing ones. For example, let's calculate the `TotalSale` for each order (`Price * Quantity`)."
   ]
  },
  {
   "cell_type": "code",
   "execution_count": null,
   "metadata": {},
   "outputs": [],
   "source": [
    "# We can create a new column through simple arithmetic\n",
    "df['TotalSale'] = df['Price'] * df['Quantity']\n",
    "\n",
    "df"
   ]
  },
  {
   "cell_type": "markdown",
   "metadata": {},
   "source": [
    "The `.apply()` method lets us use more complex, custom functions. Let's create a function that categorizes sales as 'High' or 'Low'."
   ]
  },
  {
   "cell_type": "code",
   "execution_count": null,
   "metadata": {},
   "outputs": [],
   "source": [
    "def categorize_sale(total_sale):\n",
    "    if total_sale > 100:\n",
    "        return 'High'\n",
    "    else:\n",
    "        return 'Low'\n",
    "\n",
    "# Apply this function to the 'TotalSale' column\n",
    "df['SaleCategory'] = df['TotalSale'].apply(categorize_sale)\n",
    "\n",
    "df"
   ]
  },
  {
   "cell_type": "markdown",
   "metadata": {},
   "source": [
    "## ✅ What's Next?\n",
    "\n",
    "Congratulations! You've just performed some of the most common and critical data cleaning tasks. This process turns messy, unusable data into a clean, structured format ready for analysis.\n",
    "\n",
    "Now that we know how to clean and prepare data, our next step is to visualize it. In the next module, **`03_Data_Visualization`**, we'll learn how to create powerful charts and graphs with **Matplotlib** and **Seaborn**."
   ]
  }
 ],
 "metadata": {
  "kernelspec": {
   "display_name": "Python 3",
   "language": "python",
   "name": "python3"
  },
  "language_info": {
   "codemirror_mode": {
    "name": "ipython",
    "version": 3
   },
   "file_extension": ".py",
   "mimetype": "text/x-python",
   "name": "python",
   "nbconvert_exporter": "python",
   "pygments_lexer": "ipython3",
   "version": "3.10.9"
  }
 },
 "nbformat": 4,
 "nbformat_minor": 4
}