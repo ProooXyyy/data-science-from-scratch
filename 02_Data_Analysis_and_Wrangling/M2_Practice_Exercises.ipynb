{
 "cells": [
  {
   "cell_type": "markdown",
   "metadata": {},
   "source": [
    "# Module 2: Practice Exercises\n",
    "\n",
    "Welcome to the practice exercises for Module 2. These questions are designed to test your understanding of NumPy and Pandas.\n",
    "\n",
    "**Instructions:**\n",
    "1.  For each problem, read the description and write the necessary code in the cell below it.\n",
    "2.  Run the cell to see the output and check if your solution is correct.\n",
    "3.  Solutions are provided at the end of the notebook for you to compare against."
   ]
  },
  {
   "cell_type": "markdown",
   "metadata": {},
   "source": [
    "---"
   ]
  },
  {
   "cell_type": "markdown",
   "metadata": {},
   "source": [
    "### Exercise 1: NumPy Conditional Selection\n",
    "\n",
    "**Task:** You are given a NumPy array of temperatures. Use boolean indexing to select and print only the temperatures that are above 20 degrees."
   ]
  },
  {
   "cell_type": "code",
   "execution_count": null,
   "metadata": {},
   "outputs": [],
   "source": [
    "import numpy as np\n",
    "\n",
    "temperatures = np.array([15, 22, 19, 25, 30, 18, 21])\n",
    "\n",
    "# Your code here"
   ]
  },
  {
   "cell_type": "markdown",
   "metadata": {},
   "source": [
    "### Exercise 2: Creating a Pandas DataFrame\n",
    "\n",
    "**Task:** Create a Pandas DataFrame from the following dictionary. The DataFrame should contain information about three students."
   ]
  },
  {
   "cell_type": "code",
   "execution_count": null,
   "metadata": {},
   "outputs": [],
   "source": [
    "import pandas as pd\n",
    "\n",
    "student_data = {\n",
    "    'Name': ['Alice', 'Bob', 'Charlie'],\n",
    "    'Age': [20, 21, 19],\n",
    "    'Major': ['CompSci', 'Biology', 'Engineering']\n",
    "}\n",
    "\n",
    "# Your code here"
   ]
  },
  {
   "cell_type": "markdown",
   "metadata": {},
   "source": [
    "### Exercise 3: Selecting Data from a DataFrame\n",
    "\n",
    "**Task:** Using the `sales_data.csv` we created earlier, load it into a DataFrame. Then, select and display only the rows where the `Category` is 'Apparel'."
   ]
  },
  {
   "cell_type": "code",
   "execution_count": null,
   "metadata": {},
   "outputs": [],
   "source": [
    "# Your code here\n",
    "# Hint: df = pd.read_csv('data/sales_data.csv')"
   ]
  },
  {
   "cell_type": "markdown",
   "metadata": {},
   "source": [
    "### Exercise 4: Data Cleaning - Handling Missing Values\n",
    "\n",
    "**Task:** You are given a DataFrame with a missing value in the 'Salary' column. Your task is to fill this missing value with the mean of the other salaries and then print the updated DataFrame."
   ]
  },
  {
   "cell_type": "code",
   "execution_count": null,
   "metadata": {},
   "outputs": [],
   "source": [
    "data = {'Name': ['Dan', 'Eva', 'Frank'], 'Salary': [50000, 55000, np.nan]}\n",
    "df_salary = pd.DataFrame(data)\n",
    "\n",
    "# Your code here"
   ]
  },
  {
   "cell_type": "markdown",
   "metadata": {},
   "source": [
    "### Exercise 5: Creating a New Column\n",
    "\n",
    "**Task:** Using the `sales_data.csv` again, load it into a DataFrame. Create a new column called `Revenue` which is the product of the `Price` and `Quantity` columns. Display the first 5 rows of the updated DataFrame."
   ]
  },
  {
   "cell_type": "code",
   "execution_count": null,
   "metadata": {},
   "outputs": [],
   "source": [
    "# Your code here"
   ]
  },
  {
   "cell_type": "markdown",
   "metadata": {},
   "source": [
    "---"
   ]
  },
  {
   "cell_type": "markdown",
   "metadata": {},
   "source": [
    "## Solutions"
   ]
  },
  {
   "cell_type": "markdown",
   "metadata": {},
   "source": [
    "**Solution 1:**\n",
    "```python\n",
    "import numpy as np\n",
    "temperatures = np.array([15, 22, 19, 25, 30, 18, 21])\n",
    "hot_days = temperatures[temperatures > 20]\n",
    "print(hot_days)\n",
    "```"
   ]
  },
  {
   "cell_type": "markdown",
   "metadata": {},
   "source": [
    "**Solution 2:**\n",
    "```python\n",
    "import pandas as pd\n",
    "student_data = {\n",
    "    'Name': ['Alice', 'Bob', 'Charlie'],\n",
    "    'Age': [20, 21, 19],\n",
    "    'Major': ['CompSci', 'Biology', 'Engineering']\n",
    "}\n",
    "df_students = pd.DataFrame(student_data)\n",
    "print(df_students)\n",
    "```"
   ]
  },
  {
   "cell_type": "markdown",
   "metadata": {},
   "source": [
    "**Solution 3:**\n",
    "```python\n",
    "import pandas as pd\n",
    "df_sales = pd.read_csv('data/sales_data.csv')\n",
    "apparel_sales = df_sales[df_sales['Category'] == 'Apparel']\n",
    "print(apparel_sales)\n",
    "```"
   ]
  },
  {
   "cell_type": "markdown",
   "metadata": {},
   "source": [
    "**Solution 4:**\n",
    "```python\n",
    "data = {'Name': ['Dan', 'Eva', 'Frank'], 'Salary': [50000, 55000, np.nan]}\n",
    "df_salary = pd.DataFrame(data)\n",
    "mean_salary = df_salary['Salary'].mean()\n",
    "df_salary['Salary'].fillna(mean_salary, inplace=True)\n",
    "print(df_salary)\n",
    "```"
   ]
  },
  {
   "cell_type": "markdown",
   "metadata": {},
   "source": [
    "**Solution 5:**\n",
    "```python\n",
    "import pandas as pd\n",
    "df_sales = pd.read_csv('data/sales_data.csv')\n",
    "df_sales['Revenue'] = df_sales['Price'] * df_sales['Quantity']\n",
    "print(df_sales.head())\n",
    "```"
   ]
  }
 ],
 "metadata": {
  "kernelspec": {
   "display_name": "Python 3",
   "language": "python",
   "name": "python3"
  },
  "language_info": {
   "codemirror_mode": {
    "name": "ipython",
    "version": 3
   },
   "file_extension": ".py",
   "mimetype": "text/x-python",
   "name": "python",
   "nbconvert_exporter": "python",
   "pygments_lexer": "ipython3",
   "version": "3.10.9"
  }
 },
 "nbformat": 4,
 "nbformat_minor": 4
}