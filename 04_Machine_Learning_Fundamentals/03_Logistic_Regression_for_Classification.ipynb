{
 "cells": [
  {
   "cell_type": "markdown",
   "metadata": {},
   "source": [
    "# Module 4.3: Logistic Regression for Classification\n",
    "\n",
    "So far, we've predicted continuous values (like house prices). But what if we want to predict a category? For example:\n",
    "* Will a customer churn or not? (Yes/No)\n",
    "* Is an email spam or not spam? (Spam/Not Spam)\n",
    "* Does a patient have a disease? (Positive/Negative)\n",
    "\n",
    "This type of problem is called **Classification**. Our first and most fundamental classification algorithm is **Logistic Regression**.\n",
    "\n",
"**How it works:** Instead of fitting a straight line to the data, Logistic Regression fits a special 'S'-shaped curve, called a **sigmoid function**. This curve outputs a probability between 0 and 1. We can then set a threshold (usually 0.5) to classify the outcome as one category or the other.\n",
"\n",
"[Image of a sigmoid function curve]\n",
"\n",
"**Goal of this Notebook:**\n",
"1.  Introduce the concept of Feature Scaling.\n",
    "2.  Train a Logistic Regression model.\n",
    "3.  Understand and interpret key classification metrics like the **Confusion Matrix**, **Accuracy**, **Precision**, and **Recall**."
   ]
  },
  {
   "cell_type": "markdown",
   "metadata": {},
   "source": [
    "### Dataset Setup\n",
    "\n",
    "We'll use a dataset about social network ads to predict whether a user will purchase a product based on their age and salary.\n",
    "\n",
    "➡️ **Action:** Go to the `02_Data_Analysis_and_Wrangling/data/` folder. Create a new file named `Social_Network_Ads.csv` and paste the following content into it:\n",
    "\n",
    "```csv\n",
    "User ID,Gender,Age,EstimatedSalary,Purchased\n",
    "15624510,Male,19,19000,0\n",
    "15810944,Male,35,20000,0\n",
    "15668575,Female,26,43000,0\n",
    "15603246,Female,27,57000,0\n",
    "15804002,Male,19,76000,0\n",
    "15728773,Male,27,58000,0\n",
    "15598044,Female,27,84000,0\n",
    "15694829,Female,32,150000,1\n",
    "15600575,Male,25,33000,0\n",
    "15727311,Female,35,65000,0\n",
    "15570769,Female,26,80000,0\n",
    "15606274,Female,26,52000,0\n",
    "15746139,Male,20,86000,0\n",
    "15704987,Male,32,18000,0\n",
    "15628972,Male,18,82000,0\n",
    "15697695,Male,29,80000,0\n",
    "15735878,Male,47,25000,1\n",
    "15617482,Male,45,26000,1\n",
    "15704583,Male,46,28000,1\n",
    "15622836,Female,48,29000,1\n",
    "15649487,Male,45,22000,1\n",
    "15737691,Female,46,49000,1\n",
    "15724550,Female,47,47000,1\n",
    "15679401,Male,48,41000,1\n",
    "15744232,Female,45,22000,1\n",
    "15638646,Male,46,79000,1\n",
    "15757646,Male,47,33000,1\n",
    "15594452,Female,49,28000,1\n",
    "15639174,Male,49,36000,1\n",
    "15756820,Male,42,65000,0\n",
    "```"
   ]
  },
  {
   "cell_type": "code",
   "execution_count": null,
   "metadata": {},
   "outputs": [],
   "source": [
    "import pandas as pd\n",
    "from sklearn.model_selection import train_test_split\n",
    "from sklearn.preprocessing import StandardScaler\n",
    "from sklearn.linear_model import LogisticRegression\n",
    "from sklearn.metrics import confusion_matrix, classification_report, accuracy_score"
   ]
  },
  {
   "cell_type": "code",
   "execution_count": null,
   "metadata": {},
   "outputs": [],
   "source": [
    "df = pd.read_csv('../02_Data_Analysis_and_Wrangling/data/Social_Network_Ads.csv')\n",
    "df.head()"
   ]
  },
  {
   "cell_type": "markdown",
   "metadata": {},
   "source": [
    "## 1. Preparing the Data\n",
    "\n",
    "We define our features (X) and target (y) and split the data as usual."
   ]
  },
  {
   "cell_type": "code",
   "execution_count": null,
   "metadata": {},
   "outputs": [],
   "source": [
    "X = df[['Age', 'EstimatedSalary']]\n",
    "y = df['Purchased']\n",
    "\n",
    "X_train, X_test, y_train, y_test = train_test_split(X, y, test_size=0.25, random_state=0)"
   ]
  },
  {
   "cell_type": "markdown",
   "metadata": {},
   "source": [
    "### A New Step: Feature Scaling\n",
    "\n",
    "Look at our data: 'Age' ranges from about 18-60, while 'EstimatedSalary' ranges from 15,000 to 150,000. This large difference in scale can cause problems for many machine learning algorithms.\n",
    "\n",
    "**Feature Scaling** standardizes the range of our features. We use `StandardScaler` from Scikit-Learn, which transforms the data so it has a mean of 0 and a standard deviation of 1.\n",
    "\n",
    "**Important:** We `fit_transform` on the training data, but only `transform` on the test data. This prevents 'data leakage' from the test set into our training process."
   ]
  },
  {
   "cell_type": "code",
   "execution_count": null,
   "metadata": {},
   "outputs": [],
   "source": [
    "scaler = StandardScaler()\n",
    "X_train = scaler.fit_transform(X_train)\n",
    "X_test = scaler.transform(X_test)"
   ]
  },
  {
   "cell_type": "markdown",
   "metadata": {},
   "source": [
    "## 2. Training the Model"
   ]
  },
  {
   "cell_type": "code",
   "execution_count": null,
   "metadata": {},
   "outputs": [],
   "source": [
    "# Instantiate and train the model\n",
    "model = LogisticRegression()\n",
    "model.fit(X_train, y_train)"
   ]
  },
  {
   "cell_type": "markdown",
   "metadata": {},
   "source": [
    "## 3. Evaluating the Model\n",
    "\n",
    "For classification, accuracy is not enough. We need more detailed metrics.\n",
    "\n",
    "### The Confusion Matrix\n",
    "A table that describes the performance of a classification model. It shows:\n",
    "* **True Positives (TP):** Correctly predicted positive.\n",
    "* **True Negatives (TN):** Correctly predicted negative.\n",
    "* **False Positives (FP):** Incorrectly predicted positive (Type I Error).\n",
    "* **False Negatives (FN):** Incorrectly predicted negative (Type II Error)."
   ]
  },
  {
   "cell_type": "code",
   "execution_count": null,
   "metadata": {},
   "outputs": [],
   "source": [
    "predictions = model.predict(X_test)\n",
    "\n",
    "# Generate the confusion matrix\n",
    "cm = confusion_matrix(y_test, predictions)\n",
    "print(\"Confusion Matrix:\")\n",
    "print(cm)"
   ]
  },
  {
   "cell_type": "markdown",
   "metadata": {},
   "source": [
    "### Accuracy, Precision, and Recall\n",
    "\n",
    "* **Accuracy:** Overall, how often is the classifier correct? `(TP+TN)/Total`\n",
    "* **Precision:** Of all the positive predictions, how many were actually correct? `TP/(TP+FP)`\n",
    "* **Recall (Sensitivity):** Of all the actual positive cases, how many did we correctly identify? `TP/(TP+FN)`\n",
    "\n",
    "The `classification_report` gives us all these metrics at once."
   ]
  },
  {
   "cell_type": "code",
   "execution_count": null,
   "metadata": {},
   "outputs": [],
   "source": [
    "print(f\"Accuracy: {accuracy_score(y_test, predictions):.2f}\\n\")\n",
    "print(\"Classification Report:\")\n",
    "print(classification_report(y_test, predictions))"
   ]
  },
  {
   "cell_type": "markdown",
   "metadata": {},
   "source": [
    "> **Interpretation:** Our model has an overall accuracy of 88%. For the 'Purchased' class (1), it has high precision (meaning when it predicts someone will buy, it's usually right) and good recall (meaning it catches a good portion of the people who actually buy).\n"
   ]
  },
  {
   "cell_type": "markdown",
   "metadata": {},
   "source": [
    "## ✅ What's Next?\n",
    "\n",
    "You've successfully trained your first classification model and learned how to evaluate it properly. Understanding precision and recall is a critical skill.\n",
    "\n",
    "Logistic Regression is a linear model. Next, we'll explore non-linear models like **Decision Trees and Random Forests**, which can capture more complex patterns in data."
   ]
  }
 ],
 "metadata": {
  "kernelspec": {
   "display_name": "Python 3",
   "language": "python",
   "name": "python3"
  },
  "language_info": {
   "codemirror_mode": {
    "name": "ipython",
    "version": 3
   },
   "file_extension": ".py",
   "mimetype": "text/x-python",
   "name": "python",
   "nbconvert_exporter": "python",
   "pygments_lexer": "ipython3",
   "version": "3.10.9"
  }
 },
 "nbformat": 4,
 "nbformat_minor": 4
}