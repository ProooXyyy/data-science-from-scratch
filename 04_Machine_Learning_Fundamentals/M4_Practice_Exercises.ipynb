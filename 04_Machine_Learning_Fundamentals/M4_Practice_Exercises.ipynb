{
 "cells": [
  {
   "cell_type": "markdown",
   "metadata": {},
   "source": [
    "# Module 4: Practice Exercises\n",
    "\n",
    "Welcome to the practice exercises for Module 4. These questions will test your understanding of the core Scikit-Learn workflow, from data preparation to model training and evaluation.\n",
    "\n",
    "**Instructions:**\n",
    "1.  For each problem, read the description and write the necessary code in the cell below it.\n",
    "2.  Run the cell to see the output and check if your solution is correct.\n",
    "3.  Solutions are provided at the end of the notebook for you to compare against."
   ]
  },
  {
   "cell_type": "markdown",
   "metadata": {},
   "source": [
    "---"
   ]
  },
  {
   "cell_type": "markdown",
   "metadata": {},
   "source": [
    "### Exercise 1: Train-Test Split\n",
    "\n",
    "**Task:** You are given features `X` and a target `y` from the Iris dataset. Use Scikit-Learn to split this data into training and testing sets. Use 30% of the data for testing and set `random_state=42` for reproducibility. Print the shapes of `X_train` and `X_test`."
   ]
  },
  {
   "cell_type": "code",
   "execution_count": null,
   "metadata": {},
   "outputs": [],
   "source": [
    "from sklearn.datasets import load_iris\n",
    "from sklearn.model_selection import train_test_split\n",
    "\n",
    "iris = load_iris()\n",
    "X = iris.data\n",
    "y = iris.target\n",
    "\n",
    "# Your code here"
   ]
  },
  {
   "cell_type": "markdown",
   "metadata": {},
   "source": [
    "### Exercise 2: Training a Regression Model\n",
    "\n",
    "**Task:** You are given a simple dataset where `X` is the number of hours studied and `y` is the exam score. Train a `LinearRegression` model on this data. After training, predict the score for a student who studied for 9 hours."
   ]
  },
  {
   "cell_type": "code",
   "execution_count": null,
   "metadata": {},
   "outputs": [],
   "source": [
    "import numpy as np\n",
    "from sklearn.linear_model import LinearRegression\n",
    "\n",
    "# Data: Hours Studied vs. Exam Score\n",
    "X_study = np.array([2, 3, 5, 6, 8]).reshape(-1, 1)\n",
    "y_score = np.array([65, 70, 78, 80, 88])\n",
    "\n",
    "# Your code here"
   ]
  },
  {
   "cell_type": "markdown",
   "metadata": {},
   "source": [
    "### Exercise 3: Training a Classification Model\n",
    "\n",
    "**Task:** Using the `Social_Network_Ads.csv` dataset, train a `RandomForestClassifier` to predict whether a user will purchase a product. Use 'Age' and 'EstimatedSalary' as features. After training the model on the full dataset (no train-test split for this exercise), evaluate its accuracy."
   ]
  },
  {
   "cell_type": "code",
   "execution_count": null,
   "metadata": {},
   "outputs": [],
   "source": [
    "import pandas as pd\n",
    "from sklearn.ensemble import RandomForestClassifier\n",
    "from sklearn.metrics import accuracy_score\n",
    "\n",
    "df_ads = pd.read_csv('../02_Data_Analysis_and_Wrangling/data/Social_Network_Ads.csv')\n",
    "\n",
    "# Your code here"
   ]
  },
  {
   "cell_type": "markdown",
   "metadata": {},
   "source": [
    "### Exercise 4: Evaluating a Classifier\n",
    "\n",
    "**Task:** You are given the true labels and the predicted labels from a classification model. Generate and print the **classification report** to see the precision, recall, and f1-score for each class."
   ]
  },
  {
   "cell_type": "code",
   "execution_count": null,
   "metadata": {},
   "outputs": [],
   "source": [
    "from sklearn.metrics import classification_report\n",
    "\n",
    "y_true = [0, 1, 1, 0, 1, 0, 0, 1, 1, 1]\n",
    "y_pred = [0, 1, 0, 0, 1, 0, 1, 1, 1, 0]\n",
    "\n",
    "# Your code here"
   ]
  },
  {
   "cell_type": "markdown",
   "metadata": {},
   "source": [
    "### Exercise 5: Feature Scaling\n",
    "\n",
    "**Task:** You have a simple dataset with two features that have very different scales. Use the `StandardScaler` to scale the features. Print the original and the scaled data."
   ]
  },
  {
   "cell_type": "code",
   "execution_count": null,
   "metadata": {},
   "outputs": [],
   "source": [
    "from sklearn.preprocessing import StandardScaler\n",
    "\n",
    "data = np.array([[25, 50000], [35, 120000], [45, 80000]])\n",
    "\n",
    "# Your code here"
   ]
  },
  {
   "cell_type": "markdown",
   "metadata": {},
   "source": [
    "---"
   ]
  },
  {
   "cell_type": "markdown",
   "metadata": {},
   "source": [
    "## Solutions"
   ]
  },
  {
   "cell_type": "markdown",
   "metadata": {},
   "source": [
    "**Solution 1:**\n",
    "```python\n",
    "from sklearn.datasets import load_iris\n",
    "from sklearn.model_selection import train_test_split\n",
    "iris = load_iris()\n",
    "X = iris.data\n",
    "y = iris.target\n",
    "X_train, X_test, y_train, y_test = train_test_split(X, y, test_size=0.3, random_state=42)\n",
    "print(f\"Shape of X_train: {X_train.shape}\")\n",
    "print(f\"Shape of X_test: {X_test.shape}\")\n",
    "```"
   ]
  },
  {
   "cell_type": "markdown",
   "metadata": {},
   "source": [
    "**Solution 2:**\n",
    "```python\n",
    "import numpy as np\n",
    "from sklearn.linear_model import LinearRegression\n",
    "X_study = np.array([2, 3, 5, 6, 8]).reshape(-1, 1)\n",
    "y_score = np.array([65, 70, 78, 80, 88])\n",
    "model = LinearRegression()\n",
    "model.fit(X_study, y_score)\n",
    "predicted_score = model.predict([[9]])\n",
    "print(f\"Predicted score for 9 hours of study: {predicted_score[0]:.2f}\")\n",
    "```"
   ]
  },
  {
   "cell_type": "markdown",
   "metadata": {},
   "source": [
    "**Solution 3:**\n",
    "```python\n",
    "import pandas as pd\n",
    "from sklearn.ensemble import RandomForestClassifier\n",
    "from sklearn.metrics import accuracy_score\n",
    "df_ads = pd.read_csv('../02_Data_Analysis_and_Wrangling/data/Social_Network_Ads.csv')\n",
    "X = df_ads[['Age', 'EstimatedSalary']]\n",
    "y = df_ads['Purchased']\n",
    "model = RandomForestClassifier(random_state=42)\n",
    "model.fit(X, y)\n",
    "predictions = model.predict(X)\n",
    "accuracy = accuracy_score(y, predictions)\n",
    "print(f\"Model accuracy: {accuracy:.2f}\")\n",
    "```"
   ]
  },
  {
   "cell_type": "markdown",
   "metadata": {},
   "source": [
    "**Solution 4:**\n",
    "```python\n",
    "from sklearn.metrics import classification_report\n",
    "y_true = [0, 1, 1, 0, 1, 0, 0, 1, 1, 1]\n",
    "y_pred = [0, 1, 0, 0, 1, 0, 1, 1, 1, 0]\n",
    "print(classification_report(y_true, y_pred))\n",
    "```"
   ]
  },
  {
   "cell_type": "markdown",
   "metadata": {},
   "source": [
    "**Solution 5:**\n",
    "```python\n",
    "from sklearn.preprocessing import StandardScaler\n",
    "import numpy as np\n",
    "data = np.array([[25, 50000], [35, 120000], [45, 80000]])\n",
    "scaler = StandardScaler()\n",
    "scaled_data = scaler.fit_transform(data)\n",
    "print(\"Original Data:\")\n",
    "print(data)\n",
    "print(\"\\nScaled Data:\")\n",
    "print(scaled_data)\n",
    "```"
   ]
  }
 ],
 "metadata": {
  "kernelspec": {
   "display_name": "Python 3",
   "language": "python",
   "name": "python3"
  },
  "language_info": {
   "codemirror_mode": {
    "name": "ipython",
    "version": 3
   },
   "file_extension": ".py",
   "mimetype": "text/x-python",
   "name": "python",
   "nbconvert_exporter": "python",
   "pygments_lexer": "ipython3",
   "version": "3.10.9"
  }
 },
 "nbformat": 4,
 "nbformat_minor": 4
}