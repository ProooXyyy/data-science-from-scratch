{
 "cells": [
  {
   "cell_type": "markdown",
   "metadata": {},
   "source": [
    "# Module 4.1: Introduction to Scikit-Learn\n",
    "\n",
    "Welcome to the Machine Learning module! This is where we transition from analyzing the past to predicting the future. 🤖\n",
    "\n",
    "**Scikit-Learn (`sklearn`)** is the gold standard for traditional machine learning in Python. It provides a massive library of well-documented algorithms and a simple, consistent API (Application Programming Interface) for using them.\n",
    "\n",
    "**Goal of this Notebook:**\n",
    "Before we dive into specific algorithms, we must understand the fundamental Scikit-Learn workflow. We will learn:\n",
    "\n",
    "1.  The difference between **Features** (input) and **Target** (output).\n",
    "2.  The crucial concept of the **Train-Test Split**.\n",
    "3.  The standard Scikit-Learn API pattern: `fit()`, `predict()`, and `score()`."
   ]
  },
  {
   "cell_type": "markdown",
   "metadata": {},
   "source": [
    "## 1. Features and Target\n",
    "\n",
    "In supervised machine learning, we work with two main types of data:\n",
    "\n",
    "* **Features (X):** These are the input variables—the data we use to make a prediction. This is typically a 2D array or DataFrame.\n",
    "* **Target (y):** This is the output variable—the value we are trying to predict. This is typically a 1D array or Series.\n",
    "\n",
    "**Analogy:** If you want to predict house prices, the *features* (X) would be things like `[Area, Bedrooms, Age]`, and the *target* (y) would be the `Price`."
   ]
  },
  {
   "cell_type": "code",
   "execution_count": null,
   "metadata": {},
   "outputs": [],
   "source": [
    "import numpy as np\n",
    "import pandas as pd\n",
    "\n",
    "# Let's create a simple, sample dataset of 'Years of Experience' vs. 'Salary'\n",
    "data = {\n",
    "    'YearsExperience': [1.1, 1.3, 1.5, 2.0, 2.2, 2.9, 3.0, 3.2, 3.2, 3.7],\n",
    "    'Salary': [39343, 46205, 37731, 43525, 39891, 56642, 60150, 54445, 64445, 57189]\n",
    "}\n",
    "df = pd.DataFrame(data)\n",
    "\n",
    "# Define our features (X) and target (y)\n",
    "X = df[['YearsExperience']] # Features must be a 2D structure, hence the double brackets\n",
    "y = df['Salary']\n",
    "\n",
    "print(\"--- Features (X) ---\")\n",
    "print(X.head())\n",
    "print(\"\\n--- Target (y) ---\")\n",
    "print(y.head())"
   ]
  },
  {
   "cell_type": "markdown",
   "metadata": {},
   "source": [
    "## 2. The Train-Test Split\n",
    "\n",
    "This is the **most important concept** in this notebook. To evaluate how well our model performs, we need to test it on data it has **never seen before**.\n",
    "\n",
    "We do this by splitting our dataset into two parts:\n",
    "* **Training Set:** The majority of the data, used to train the model.\n",
    "* **Testing Set:** A smaller portion of the data, held back to test the trained model's performance.\n",
    "\n",
    "**Analogy:** You wouldn't use the exact same questions to study for an exam and to take the final exam. The training set is your study material; the testing set is the final exam."
   ]
  },
  {
   "cell_type": "code",
   "execution_count": null,
   "metadata": {},
   "outputs": [],
   "source": [
    "from sklearn.model_selection import train_test_split\n",
    "\n",
    "# Split the data: 80% for training, 20% for testing\n",
    "# test_size=0.2 means 20% of the data will be for the test set\n",
    "# random_state ensures we get the same split every time we run the code\n",
    "X_train, X_test, y_train, y_test = train_test_split(X, y, test_size=0.2, random_state=42)\n",
    "\n",
    "print(f\"Shape of X_train: {X_train.shape}\")\n",
    "print(f\"Shape of X_test: {X_test.shape}\")\n",
    "print(f\"Shape of y_train: {y_train.shape}\")\n",
    "print(f\"Shape of y_test: {y_test.shape}\")"
   ]
  },
  {
   "cell_type": "markdown",
   "metadata": {},
   "source": [
    "## 3. The Scikit-Learn API Pattern\n",
    "\n",
    "Scikit-Learn's beauty is its consistency. The workflow for using almost any model is the same three steps:\n",
    "\n",
    "1.  **Instantiate:** Create an instance of the model object.\n",
    "2.  **Fit:** Train the model on the training data. The model learns the relationship between `X_train` and `y_train`. This is done with the `.fit()` method.\n",
    "3.  **Predict:** Use the trained model to make predictions on new, unseen data (`X_test`). This is done with the `.predict()` method."
   ]
  },
  {
   "cell_type": "code",
   "execution_count": null,
   "metadata": {},
   "outputs": [],
   "source": [
    "# We will use a Linear Regression model as our first example\n",
    "from sklearn.linear_model import LinearRegression\n",
    "\n",
    "# Step 1: Instantiate the model\n",
    "model = LinearRegression()\n",
    "\n",
    "# Step 2: Fit the model on the training data\n",
    "model.fit(X_train, y_train)\n",
    "\n",
    "print(\"Model training is complete!\")"
   ]
  },
  {
   "cell_type": "code",
   "execution_count": null,
   "metadata": {},
   "outputs": [],
   "source": [
    "# Step 3: Make predictions on the test data\n",
    "predictions = model.predict(X_test)\n",
    "\n",
    "# Let's see the predictions vs. the actual values\n",
    "print(\"--- Predictions ---\")\n",
    "print(predictions)\n",
    "\n",
    "print(\"\\n--- Actual Values ---\")\n",
    "print(y_test.values)"
   ]
  },
  {
   "cell_type": "markdown",
   "metadata": {},
   "source": [
    "## ✅ What's Next?\n",
    "\n",
    "Congratulations! You've just trained your first machine learning model. You now understand the fundamental workflow that applies to nearly all supervised learning tasks in Scikit-Learn.\n",
    "\n",
    "In the next notebook, we will dive deeper into the algorithm we just used—**Linear Regression**—to understand how it works and how to evaluate its performance."
   ]
  }
 ],
 "metadata": {
  "kernelspec": {
   "display_name": "Python 3",
   "language": "python",
   "name": "python3"
  },
  "language_info": {
   "codemirror_mode": {
    "name": "ipython",
    "version": 3
   },
   "file_extension": ".py",
   "mimetype": "text/x-python",
   "name": "python",
   "nbconvert_exporter": "python",
   "pygments_lexer": "ipython3",
   "version": "3.10.9"
  }
 },
 "nbformat": 4,
 "nbformat_minor": 4
}