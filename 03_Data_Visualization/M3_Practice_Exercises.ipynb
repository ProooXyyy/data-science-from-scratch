{
 "cells": [
  {
   "cell_type": "markdown",
   "metadata": {},
   "source": [
    "# Module 3: Practice Exercises\n",
    "\n",
    "Welcome to the practice exercises for Module 3. These questions are designed to test your ability to create insightful plots using Matplotlib and Seaborn.\n",
    "\n",
    "**Instructions:**\n",
    "1.  For each problem, read the description and write the necessary code in the cell below it.\n",
    "2.  Run the cell to see the output and check if your solution is correct.\n",
    "3.  Solutions are provided at the end of the notebook for you to compare against."
   ]
  },
  {
   "cell_type": "markdown",
   "metadata": {},
   "source": [
    "---"
   ]
  },
  {
   "cell_type": "markdown",
   "metadata": {},
   "source": [
    "### Exercise 1: Matplotlib Line Plot\n",
    "\n",
    "**Task:** You are given two lists, `months` and `sales`. Create a line plot using Matplotlib that shows the sales trend over the months. Be sure to add a title and labels for the x and y axes."
   ]
  },
  {
   "cell_type": "code",
   "execution_count": null,
   "metadata": {},
   "outputs": [],
   "source": [
    "import matplotlib.pyplot as plt\n",
    "\n",
    "months = ['Jan', 'Feb', 'Mar', 'Apr', 'May', 'Jun']\n",
    "sales = [150, 180, 220, 190, 240, 270]\n",
    "\n",
    "# Your code here"
   ]
  },
  {
   "cell_type": "markdown",
   "metadata": {},
   "source": [
    "### Exercise 2: Matplotlib Scatter Plot\n",
    "\n",
    "**Task:** You have data on the `height` and `weight` of a group of people. Create a scatter plot to visualize the relationship between height and weight. Add a title and axis labels."
   ]
  },
  {
   "cell_type": "code",
   "execution_count": null,
   "metadata": {},
   "outputs": [],
   "source": [
    "height = [160, 165, 170, 175, 180, 185]\n",
    "weight = [55, 60, 68, 75, 80, 88]\n",
    "\n",
    "# Your code here"
   ]
  },
  {
   "cell_type": "markdown",
   "metadata": {},
   "source": [
    "### Exercise 3: Seaborn Count Plot\n",
    "\n",
    "**Task:** Load the built-in 'tips' dataset from Seaborn. Create a count plot that shows how many diners were present on each day of the week."
   ]
  },
  {
   "cell_type": "code",
   "execution_count": null,
   "metadata": {},
   "outputs": [],
   "source": [
    "import seaborn as sns\n",
    "import matplotlib.pyplot as plt\n",
    "\n",
    "tips = sns.load_dataset('tips')\n",
    "\n",
    "# Your code here"
   ]
  },
  {
   "cell_type": "markdown",
   "metadata": {},
   "source": [
    "### Exercise 4: Seaborn Box Plot\n",
    "\n",
    "**Task:** Using the same 'tips' dataset, create a box plot to compare the distribution of the `total_bill` for lunch vs. dinner (`time` column)."
   ]
  },
  {
   "cell_type": "code",
   "execution_count": null,
   "metadata": {},
   "outputs": [],
   "source": [
    "# Your code here"
   ]
  },
  {
   "cell_type": "markdown",
   "metadata": {},
   "source": [
    "### Exercise 5: Seaborn Scatter Plot with Hue\n",
    "\n",
    "**Task:** Create a scatter plot of `total_bill` vs. `tip` from the 'tips' dataset. Use the `smoker` column to color the points (hue) to see if there's a different tipping pattern for smokers vs. non-smokers."
   ]
  },
  {
   "cell_type": "code",
   "execution_count": null,
   "metadata": {},
   "outputs": [],
   "source": [
    "# Your code here"
   ]
  },
  {
   "cell_type": "markdown",
   "metadata": {},
   "source": [
    "---"
   ]
  },
  {
   "cell_type": "markdown",
   "metadata": {},
   "source": [
    "## Solutions"
   ]
  },
  {
   "cell_type": "markdown",
   "metadata": {},
   "source": [
    "**Solution 1:**\n",
    "```python\n",
    "import matplotlib.pyplot as plt\n",
    "months = ['Jan', 'Feb', 'Mar', 'Apr', 'May', 'Jun']\n",
    "sales = [150, 180, 220, 190, 240, 270]\n",
    "plt.figure(figsize=(8, 5))\n",
    "plt.plot(months, sales)\n",
    "plt.title('Monthly Sales Trend')\n",
    "plt.xlabel('Month')\n",
    "plt.ylabel('Sales (in thousands)')\n",
    "plt.show()\n",
    "```"
   ]
  },
  {
   "cell_type": "markdown",
   "metadata": {},
   "source": [
    "**Solution 2:**\n",
    "```python\n",
    "height = [160, 165, 170, 175, 180, 185]\n",
    "weight = [55, 60, 68, 75, 80, 88]\n",
    "plt.figure(figsize=(8, 5))\n",
    "plt.scatter(height, weight)\n",
    "plt.title('Height vs. Weight')\n",
    "plt.xlabel('Height (cm)')\n",
    "plt.ylabel('Weight (kg)')\n",
    "plt.show()\n",
    "```"
   ]
  },
  {
   "cell_type": "markdown",
   "metadata": {},
   "source": [
    "**Solution 3:**\n",
    "```python\n",
    "import seaborn as sns\n",
    "import matplotlib.pyplot as plt\n",
    "tips = sns.load_dataset('tips')\n",
    "sns.countplot(data=tips, x='day')\n",
    "plt.title('Number of Diners by Day')\n",
    "plt.show()\n",
    "```"
   ]
  },
  {
   "cell_type": "markdown",
   "metadata": {},
   "source": [
    "**Solution 4:**\n",
    "```python\n",
    "sns.boxplot(data=tips, x='time', y='total_bill')\n",
    "plt.title('Total Bill Distribution by Time of Day')\n",
    "plt.show()\n",
    "```"
   ]
  },
  {
   "cell_type": "markdown",
   "metadata": {},
   "source": [
    "**Solution 5:**\n",
    "```python\n",
    "sns.scatterplot(data=tips, x='total_bill', y='tip', hue='smoker')\n",
    "plt.title('Total Bill vs. Tip by Smoker Status')\n",
    "plt.show()\n",
    "```"
   ]
  }
 ],
 "metadata": {
  "kernelspec": {
   "display_name": "Python 3",
   "language": "python",
   "name": "python3"
  },
  "language_info": {
   "codemirror_mode": {
    "name": "ipython",
    "version": 3
   },
   "file_extension": ".py",
   "mimetype": "text/x-python",
   "name": "python",
   "nbconvert_exporter": "python",
   "pygments_lexer": "ipython3",
   "version": "3.10.9"
  }
 },
 "nbformat": 4,
 "nbformat_minor": 4
}