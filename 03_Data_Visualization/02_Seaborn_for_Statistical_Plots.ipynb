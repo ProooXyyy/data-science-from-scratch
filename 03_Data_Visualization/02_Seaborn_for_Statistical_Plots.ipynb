{
 "cells": [
  {
   "cell_type": "markdown",
   "metadata": {},
   "source": [
    "# Module 3.2: Statistical Plotting with Seaborn\n",
    "\n",
    "While Matplotlib is the foundation of plotting in Python, **Seaborn** is a specialized library built on top of it. Its primary goal is to make creating sophisticated, attractive, and informative statistical plots much easier. 🎨\n",
    "\n",
    "**Why use Seaborn?**\n",
    "* **Less Code:** Create complex plots (like boxplots or heatmaps) in a single line of code.\n",
    "* **Beautiful Defaults:** Seaborn plots have a much more modern and aesthetically pleasing default style.\n",
    "* **Pandas Integration:** It works seamlessly with Pandas DataFrames.\n",
    "\n",
    "**Goal of this Notebook:**\n",
    "We will learn to create some of the most common statistical plots using Seaborn:\n",
    "\n",
    "1.  Distribution Plots (to see how data is spread)\n",
    "2.  Categorical Plots (to compare across groups)\n",
    "3.  Relational Plots (to see relationships between variables)"
   ]
  },
  {
   "cell_type": "code",
   "execution_count": null,
   "metadata": {},
   "outputs": [],
   "source": [
    "import seaborn as sns\n",
    "import matplotlib.pyplot as plt\n",
    "\n",
    "# Set the default style for our plots\n",
    "sns.set_theme(style=\"whitegrid\")"
   ]
  },
  {
   "cell_type": "markdown",
   "metadata": {},
   "source": [
    "### Loading a Built-in Dataset\n",
    "\n",
    "Seaborn comes with a few classic datasets, which is great for practicing. We'll use the 'tips' dataset, which contains information about restaurant tips."
   ]
  },
  {
   "cell_type": "code",
   "execution_count": null,
   "metadata": {},
   "outputs": [],
   "source": [
    "# Load the dataset\n",
    "tips = sns.load_dataset('tips')\n",
    "\n",
    "# Look at the first few rows\n",
    "tips.head()"
   ]
  },
  {
   "cell_type": "markdown",
   "metadata": {},
   "source": [
    "## 1. Distribution Plots - `histplot`\n",
    "\n",
    "A histogram shows the distribution of a single numerical variable by grouping values into bins and counting them."
   ]
  },
  {
   "cell_type": "code",
   "execution_count": null,
   "metadata": {},
   "outputs": [],
   "source": [
    "# Let's see the distribution of the 'total_bill' column\n",
    "sns.histplot(data=tips, x='total_bill', kde=True)\n",
    "plt.title('Distribution of Total Bill Amounts')\n",
    "plt.show()"
   ]
  },
  {
   "cell_type": "markdown",
   "metadata": {},
   "source": [
    "## 2. Categorical Plots - `countplot` & `boxplot`\n",
    "\n",
    "These plots help us understand data by comparing it across different categories.\n",
    "\n",
    "### `countplot`\n",
    "A count plot is like a bar chart, but it shows the count of occurrences for each category."
   ]
  },
  {
   "cell_type": "code",
   "execution_count": null,
   "metadata": {},
   "outputs": [],
   "source": [
    "# How many meals were served on each day of the week?\n",
    "sns.countplot(data=tips, x='day')\n",
    "plt.title('Number of Meals Served by Day')\n",
    "plt.show()"
   ]
  },
  {
   "cell_type": "markdown",
   "metadata": {},
   "source": [
    "### `boxplot`\n",
    "A box plot is excellent for showing the distribution of a numerical variable across different categories. It clearly shows the median, quartiles, and outliers."
   ]
  },
  {
   "cell_type": "code",
   "execution_count": null,
   "metadata": {},
   "outputs": [],
   "source": [
    "# How does the total bill differ between smokers and non-smokers?\n",
    "sns.boxplot(data=tips, x='smoker', y='total_bill')\n",
    "plt.title('Total Bill Distribution by Smoker Status')\n",
    "plt.show()"
   ]
  },
  {
   "cell_type": "markdown",
   "metadata": {},
   "source": [
    "## 3. Relational Plots - `scatterplot`\n",
    "\n",
    "A scatter plot shows the relationship between two numerical variables. Seaborn enhances this by allowing us to add a third categorical variable using color (`hue`)."
   ]
  },
  {
   "cell_type": "code",
   "execution_count": null,
   "metadata": {},
   "outputs": [],
   "source": [
    "# Is there a relationship between the total bill and the tip amount?\n",
    "# Let's also see if this relationship changes based on the 'time' of day (Lunch/Dinner).\n",
    "sns.scatterplot(data=tips, x='total_bill', y='tip', hue='time')\n",
    "plt.title('Total Bill vs. Tip Amount')\n",
    "plt.show()"
   ]
  },
  {
   "cell_type": "markdown",
   "metadata": {},
   "source": [
    "## ✅ What's Next?\n",
    "\n",
    "You've now seen how Seaborn can create powerful and attractive plots with very little code. This ability to quickly visualize data and explore relationships is a core skill for any data scientist.\n",
    "\n",
    "We have now covered the entire data analysis and visualization workflow. In the next module, **`04_Machine_Learning_Fundamentals`**, we will take our clean, visualized data and use it to build predictive models."
   ]
  }
 ],
 "metadata": {
  "kernelspec": {
   "display_name": "Python 3",
   "language": "python",
   "name": "python3"
  },
  "language_info": {
   "codemirror_mode": {
    "name": "ipython",
    "version": 3
   },
   "file_extension": ".py",
   "mimetype": "text/x-python",
   "name": "python",
   "nbconvert_exporter": "python",
   "pygments_lexer": "ipython3",
   "version": "3.10.9"
  }
 },
 "nbformat": 4,
 "nbformat_minor": 4
}