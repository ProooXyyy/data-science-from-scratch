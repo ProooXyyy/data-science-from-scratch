{
 "cells": [
  {
   "cell_type": "markdown",
   "metadata": {},
   "source": [
    "# Portfolio Project 2: Movie Recommender System\n",
    "\n",
    "Welcome to your second portfolio project! We will build a simple **Movie Recommender System**. Recommender systems are one of the most popular applications of data science and are used by companies like Netflix, Amazon, and YouTube to personalize user experiences. 🎬\n",
    "\n",
    "**Business Problem:** A movie streaming service wants to increase user engagement. They believe that if they can recommend movies that a user is likely to enjoy, the user will spend more time on the platform.\n",
    "\n",
    "**Our Goal:** Build a recommender system that suggests movies to a user based on the ratings of other, similar users.\n",
    "\n",
    "**Methodology: Collaborative Filtering**\n",
    "We will use a technique called **item-based collaborative filtering**. The core idea is simple:\n",
    "> \"Users who liked this item also liked...\"\n",
    "\n",
    "The process involves:\n",
    "1.  Finding the correlation between the ratings of every movie.\n",
    "2.  For a given movie, finding the movies with the highest correlation.\n",
    "3.  Returning those highly correlated movies as recommendations."
   ]
  },
  {
   "cell_type": "markdown",
   "metadata": {},
   "source": [
    "### Dataset Setup\n",
    "\n",
    "We'll use a small version of the famous **MovieLens dataset**. It's split into two files.\n",
    "\n",
    "➡️ **Action 1:** Inside the `06_Portfolio_Projects/Project_02_Movie_Recommender/data/` folder, create a new file named `movies.csv` and paste the following content into it:\n",
    "\n",
    "```csv\n",
    "movieId,title,genres\n",
    "1,Toy Story (1995),Adventure|Animation|Children|Comedy|Fantasy\n",
    "2,Jumanji (1995),Adventure|Children|Fantasy\n",
    "3,Grumpier Old Men (1995),Comedy|Romance\n",
    "4,Waiting to Exhale (1995),Comedy|Drama|Romance\n",
    "5,Father of the Bride Part II (1995),Comedy\n",
    "6,Heat (1995),Action|Crime|Thriller\n",
    "7,Sabrina (1995),Comedy|Romance\n",
    "8,Tom and Huck (1995),Adventure|Children\n",
    "9,Sudden Death (1995),Action\n",
    "10,GoldenEye (1995),Action|Adventure|Thriller\n",
    "```\n",
    "\n",
    "➡️ **Action 2:** In the same folder, create another file named `ratings.csv` and paste this content:\n",
    "\n",
    "```csv\n",
    "userId,movieId,rating,timestamp\n",
    "1,1,4.0,964982703\n",
    "1,3,4.0,964981247\n",
    "1,6,4.0,964982224\n",
    "2,1,5.0,847117132\n",
    "2,10,3.0,847117132\n",
    "3,1,2.0,847117132\n",
    "3,6,3.0,847117132\n",
    "4,1,5.0,964982703\n",
    "4,2,4.0,964981247\n",
    "4,6,5.0,964982224\n",
    "5,1,4.0,847117132\n",
    "5,3,3.0,847117132\n",
    "5,7,5.0,847117132\n",
    "6,2,3.0,847117132\n",
    "6,5,5.0,847117132\n",
    "```"
   ]
  },
  {
   "cell_type": "code",
   "execution_count": null,
   "metadata": {},
   "outputs": [],
   "source": [
    "import pandas as pd\n",
    "import warnings\n",
    "warnings.filterwarnings('ignore')"
   ]
  },
  {
   "cell_type": "markdown",
   "metadata": {},
   "source": [
    "## 1. Data Loading and Merging"
   ]
  },
  {
   "cell_type": "code",
   "execution_count": null,
   "metadata": {},
   "outputs": [],
   "source": [
    "movies = pd.read_csv('data/movies.csv')\n",
    "ratings = pd.read_csv('data/ratings.csv')\n",
    "\n",
    "# Merge the two dataframes on 'movieId'\n",
    "df = pd.merge(ratings, movies, on='movieId')\n",
    "df.head()"
   ]
  },
  {
   "cell_type": "markdown",
   "metadata": {},
   "source": [
    "## 2. Exploratory Data Analysis (EDA)\n",
    "\n",
    "Let's create a new dataframe that shows the average rating and the number of ratings for each movie."
   ]
  },
  {
   "cell_type": "code",
   "execution_count": null,
   "metadata": {},
   "outputs": [],
   "source": [
    "ratings_summary = df.groupby('title')['rating'].agg(['mean', 'count'])\n",
    "ratings_summary.rename(columns={'mean': 'avg_rating', 'count': 'num_ratings'}, inplace=True)\n",
    "ratings_summary.sort_values(by='num_ratings', ascending=False).head()"
   ]
  },
  {
   "cell_type": "markdown",
   "metadata": {},
   "source": [
    "## 3. Creating the User-Item Matrix\n",
    "\n",
    "**Theory:** To find correlations, we need our data in a specific format: a matrix where the rows are users, the columns are movies, and the values are the ratings. Most values in this matrix will be `NaN`, because a single user has only rated a few of the total movies."
   ]
  },
  {
   "cell_type": "code",
   "execution_count": null,
   "metadata": {},
   "outputs": [],
   "source": [
    "movie_matrix = df.pivot_table(index='userId', columns='title', values='rating')\n",
    "movie_matrix.head()"
   ]
  },
  {
   "cell_type": "markdown",
   "metadata": {},
   "source": [
    "## 4. Building the Recommender\n",
    "\n",
    "Now we can implement the logic.\n",
    "1.  Choose a movie to get recommendations for (e.g., 'Toy Story (1995)').\n",
    "2.  Grab the ratings for that movie from our matrix.\n",
    "3.  Use the `.corrwith()` method to compute the pairwise correlation between that movie's ratings and all other movies' ratings.\n",
    "4.  Clean up the result and join it with the number of ratings to filter out movies with too few reviews."
   ]
  },
  {
   "cell_type": "code",
   "execution_count": null,
   "metadata": {},
   "outputs": [],
   "source": [
    "# Step 1 & 2: Get ratings for a specific movie\n",
    "movie_user_ratings = movie_matrix['Toy Story (1995)']\n",
    "\n",
    "# Step 3: Compute correlations\n",
    "similar_to_movie = movie_matrix.corrwith(movie_user_ratings)\n",
    "\n",
    "# Step 4: Clean up and join\n",
    "corr_movie = pd.DataFrame(similar_to_movie, columns=['Correlation'])\n",
    "corr_movie.dropna(inplace=True)\n",
    "corr_movie = corr_movie.join(ratings_summary['num_ratings'])\n",
    "\n",
    "# Filter out movies with less than 2 ratings and sort by correlation\n",
    "recommendations = corr_movie[corr_movie['num_ratings'] > 1].sort_values('Correlation', ascending=False)\n",
    "\n",
    "recommendations.head()"
   ]
  },
  {
   "cell_type": "markdown",
   "metadata": {},
   "source": [
    "## 5. Conclusion\n",
    "\n",
    "Success! We've built a simple but effective movie recommender. The output shows that users who liked 'Toy Story' also tended to give high ratings to 'Grumpier Old Men' and 'Heat'.\n",
    "\n",
    "This project demonstrates how to manipulate data into a user-item matrix and apply correlation to find similar items, which is the foundation of many powerful recommender systems.\n",
    "\n",
    "**Congratulations on completing the projects module! You have successfully built two end-to-end data science applications.**"
   ]
  }
 ],
 "metadata": {
  "kernelspec": {
   "display_name": "Python 3",
   "language": "python",
   "name": "python3"
  },
  "language_info": {
   "codemirror_mode": {
    "name": "ipython",
    "version": 3
   },
   "file_extension": ".py",
   "mimetype": "text/x-python",
   "name": "python",
   "nbconvert_exporter": "python",
   "pygments_lexer": "ipython3",
   "version": "3.10.9"
  }
 },
 "nbformat": 4,
 "nbformat_minor": 4
}