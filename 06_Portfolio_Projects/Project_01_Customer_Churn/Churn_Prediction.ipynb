{
 "cells": [
  {
   "cell_type": "markdown",
   "metadata": {},
   "source": [
    "# Portfolio Project 1: Customer Churn Prediction\n",
    "\n",
    "Welcome to your first full portfolio project! Here, we will apply the entire data science lifecycle to solve a real-world business problem: **predicting customer churn**. 🚀\n",
    "\n",
    "**Business Problem:** A telecommunications company is losing customers. They want to identify which customers are at high risk of leaving (or 'churning'). By predicting churn, the company can proactively offer incentives to these customers to retain them, which is often much cheaper than acquiring new ones.\n",
    "\n",
    "**Our Goal:** Build a machine learning model that can predict whether a customer will churn or not based on their account information and usage.\n",
    "\n",
    "**Project Steps:**\n",
    "1.  **Data Loading & Exploration (EDA):** Understand the dataset and its features.\n",
    "2.  **Data Visualization:** Create plots to find patterns related to churn.\n",
    "3.  **Data Pre-processing:** Prepare the data for machine learning (handling categorical features).\n",
    "4.  **Model Building:** Train and compare Logistic Regression and Random Forest models.\n",
    "5.  **Model Evaluation:** Evaluate our best model's performance."
   ]
  },
  {
   "cell_type": "markdown",
   "metadata": {},
   "source": [
    "### Dataset Setup\n",
    "\n",
    "We'll use a simplified version of the famous Telco Customer Churn dataset.\n",
    "\n",
    "➡️ **Action:** Go to the `06_Portfolio_Projects/Project_01_Customer_Churn/data/` folder. Create a new file named `telecom_churn.csv` and paste the following content into it:\n",
    "\n",
    "```csv\n",
    "customerID,gender,SeniorCitizen,Partner,Dependents,tenure,PhoneService,MultipleLines,InternetService,OnlineSecurity,OnlineBackup,DeviceProtection,TechSupport,StreamingTV,StreamingMovies,Contract,PaperlessBilling,PaymentMethod,MonthlyCharges,TotalCharges,Churn\n",
    "7590-VHVEG,Female,0,Yes,No,1,No,No phone service,DSL,No,Yes,No,No,No,No,Month-to-month,Yes,Electronic check,29.85,29.85,No\n",
    "5575-GNVDE,Male,0,No,No,34,Yes,No,DSL,Yes,No,Yes,No,No,No,One year,No,Mailed check,56.95,1889.5,No\n",
    "3668-QPYBK,Male,0,No,No,2,Yes,No,DSL,Yes,Yes,No,No,No,No,Month-to-month,Yes,Mailed check,53.85,108.15,Yes\n",
    "7795-CFOCW,Male,0,No,No,45,No,No phone service,DSL,Yes,No,Yes,Yes,No,No,One year,No,Bank transfer (automatic),42.3,1840.75,No\n",
    "9237-HQITU,Female,0,No,No,2,Yes,No,Fiber optic,No,No,No,No,No,No,Month-to-month,Yes,Electronic check,70.7,151.65,Yes\n",
    "9305-CDSKC,Female,0,No,No,8,Yes,Yes,Fiber optic,No,No,Yes,No,Yes,Yes,Month-to-month,Yes,Electronic check,99.65,820.5,Yes\n",
    "1452-KIOVK,Male,0,No,Yes,22,Yes,Yes,Fiber optic,No,Yes,No,No,Yes,No,Month-to-month,Yes,Bank transfer (automatic),89.1,1949.4,No\n",
    "6713-OKOMC,Female,0,No,No,10,No,No phone service,DSL,Yes,No,No,No,No,No,Month-to-month,No,Mailed check,29.75,301.9,No\n",
    "7892-POOKP,Female,0,Yes,No,28,Yes,Yes,Fiber optic,No,No,Yes,Yes,Yes,Yes,Month-to-month,Yes,Electronic check,104.8,3046.05,Yes\n",
    "6388-TABGU,Male,0,No,Yes,62,Yes,No,DSL,Yes,Yes,No,No,No,No,One year,No,Bank transfer (automatic),56.15,3487.95,No\n",
    "```"
   ]
  },
  {
   "cell_type": "code",
   "execution_count": null,
   "metadata": {},
   "outputs": [],
   "source": [
    "import pandas as pd\n",
    "import numpy as np\n",
    "import matplotlib.pyplot as plt\n",
    "import seaborn as sns\n",
    "\n",
    "%matplotlib inline\n",
    "sns.set_style('whitegrid')"
   ]
  },
  {
   "cell_type": "markdown",
   "metadata": {},
   "source": [
    "## 1. Data Loading & Exploration (EDA)"
   ]
  },
  {
   "cell_type": "code",
   "execution_count": null,
   "metadata": {},
   "outputs": [],
   "source": [
    "# Load the dataset\n",
    "df = pd.read_csv('data/telecom_churn.csv')\n",
    "\n",
    "# Get a first look at the data\n",
    "df.head()"
   ]
  },
  {
   "cell_type": "code",
   "execution_count": null,
   "metadata": {},
   "outputs": [],
   "source": [
    "# Check for missing values and data types\n",
    "df.info()"
   ]
  },
  {
   "cell_type": "markdown",
   "metadata": {},
   "source": [
    "**Observation:** The `TotalCharges` column is an `object` (string) type when it should be a number. This often happens if there are non-numeric values (like empty spaces) in the column. We need to fix this."
   ]
  },
  {
   "cell_type": "code",
   "execution_count": null,
   "metadata": {},
   "outputs": [],
   "source": [
    "# Convert 'TotalCharges' to numeric, coercing errors to NaN (Not a Number)\n",
    "df['TotalCharges'] = pd.to_numeric(df['TotalCharges'], errors='coerce')\n",
    "\n",
    "# Drop the few rows with missing TotalCharges\n",
    "df.dropna(inplace=True)\n",
    "\n",
    "# We won't use customerID for prediction, so we can drop it\n",
    "df.drop('customerID', axis=1, inplace=True)"
   ]
  },
  {
   "cell_type": "markdown",
   "metadata": {},
   "source": [
    "## 2. Data Visualization\n",
    "\n",
    "Let's create some plots to see which features are most related to Churn."
   ]
  },
  {
   "cell_type": "code",
   "execution_count": null,
   "metadata": {},
   "outputs": [],
   "source": [
    "# How does churn relate to the type of contract?\n",
    "sns.countplot(data=df, x='Contract', hue='Churn')\n",
    "plt.title('Churn Count by Contract Type')\n",
    "plt.show()"
   ]
  },
  {
   "cell_type": "markdown",
   "metadata": {},
   "source": [
    "**Observation:** This is a very strong indicator. Customers on a Month-to-month contract are far more likely to churn than those on One or Two year contracts."
   ]
  },
  {
   "cell_type": "code",
   "execution_count": null,
   "metadata": {},
   "outputs": [],
   "source": [
    "# How does churn relate to tenure (how long they've been a customer)?\n",
    "sns.histplot(data=df, x='tenure', hue='Churn', multiple='stack', bins=30)\n",
    "plt.title('Churn by Customer Tenure')\n",
    "plt.show()"
   ]
  },
  {
   "cell_type": "markdown",
   "metadata": {},
   "source": [
    "**Observation:** New customers (low tenure) are much more likely to churn. Loyal customers (high tenure) rarely leave."
   ]
  },
  {
   "cell_type": "markdown",
   "metadata": {},
   "source": [
    "## 3. Data Pre-processing for Modeling\n",
    "\n",
    "**Theory:** Machine learning models can only process numbers, not text. We have many categorical columns (like 'gender', 'Contract', 'PaymentMethod'). We need to convert these into a numerical format.\n",
    "\n",
    "The most common way to do this is **One-Hot Encoding**, where we create a new binary (0 or 1) column for each category. Pandas has a convenient `get_dummies()` function for this."
   ]
  },
  {
   "cell_type": "code",
   "execution_count": null,
   "metadata": {},
   "outputs": [],
   "source": [
    "# Convert the target variable 'Churn' to a binary format\n",
    "df['Churn'] = df['Churn'].apply(lambda x: 1 if x == 'Yes' else 0)\n",
    "\n",
    "# Separate features and target\n",
    "X = df.drop('Churn', axis=1)\n",
    "y = df['Churn']\n",
    "\n",
    "# Apply one-hot encoding to all categorical features\n",
    "X = pd.get_dummies(X, drop_first=True) # drop_first avoids multicollinearity\n",
    "\n",
    "X.head()"
   ]
  },
  {
   "cell_type": "markdown",
   "metadata": {},
   "source": [
    "## 4. Model Building"
   ]
  },
  {
   "cell_type": "code",
   "execution_count": null,
   "metadata": {},
   "outputs": [],
   "source": [
    "from sklearn.model_selection import train_test_split\n",
    "from sklearn.preprocessing import StandardScaler\n",
    "from sklearn.linear_model import LogisticRegression\n",
    "from sklearn.ensemble import RandomForestClassifier\n",
    "from sklearn.metrics import classification_report, accuracy_score\n",
    "\n",
    "# Train-Test Split\n",
    "X_train, X_test, y_train, y_test = train_test_split(X, y, test_size=0.2, random_state=101)\n",
    "\n",
    "# Scale the numerical features\n",
    "scaler = StandardScaler()\n",
    "X_train = scaler.fit_transform(X_train)\n",
    "X_test = scaler.transform(X_test)"
   ]
  },
  {
   "cell_type": "code",
   "execution_count": null,
   "metadata": {},
   "outputs": [],
   "source": [
    "# Train and evaluate Logistic Regression\n",
    "log_model = LogisticRegression(max_iter=1000)\n",
    "log_model.fit(X_train, y_train)\n",
    "log_preds = log_model.predict(X_test)\n",
    "print(\"--- Logistic Regression Results ---\")\n",
    "print(f\"Accuracy: {accuracy_score(y_test, log_preds):.2f}\\n\")\n",
    "print(classification_report(y_test, log_preds))"
   ]
  },
  {
   "cell_type": "code",
   "execution_count": null,
   "metadata": {},
   "outputs": [],
   "source": [
    "# Train and evaluate Random Forest\n",
    "rf_model = RandomForestClassifier(n_estimators=200, random_state=101)\n",
    "rf_model.fit(X_train, y_train)\n",
    "rf_preds = rf_model.predict(X_test)\n",
    "print(\"--- Random Forest Results ---\")\n",
    "print(f\"Accuracy: {accuracy_score(y_test, rf_preds):.2f}\\n\")\n",
    "print(classification_report(y_test, rf_preds))"
   ]
  },
  {
   "cell_type": "markdown",
   "metadata": {},
   "source": [
    "## 5. Conclusion\n",
    "\n",
    "Both models performed well, with accuracies around 80%. The Logistic Regression model had slightly better recall for the 'Churn' class (1), which might be more important for the business (it's better to wrongly offer a discount to a happy customer than to miss a customer who is about to leave).\n",
    "\n",
    "**Key Findings:**\n",
    "* The strongest predictors of churn are the **Contract Type** and customer **Tenure**.\n",
    "* The company should focus its retention efforts on new customers who are on month-to-month contracts.\n",
    "\n",
    "This project successfully demonstrates a complete data science workflow to solve a tangible business problem."
   ]
  }
 ],
 "metadata": {
  "kernelspec": {
   "display_name": "Python 3",
   "language": "python",
   "name": "python3"
  },
  "language_info": {
   "codemirror_mode": {
    "name": "ipython",
    "version": 3
   },
   "file_extension": ".py",
   "mimetype": "text/x-python",
   "name": "python",
   "nbconvert_exporter": "python",
   "pygments_lexer": "ipython3",
   "version": "3.10.9"
  }
 },
 "nbformat": 4,
 "nbformat_minor": 4
}