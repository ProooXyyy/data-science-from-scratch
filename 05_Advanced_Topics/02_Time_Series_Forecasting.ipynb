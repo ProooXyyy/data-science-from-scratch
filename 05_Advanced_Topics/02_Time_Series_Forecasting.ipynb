{
 "cells": [
  {
   "cell_type": "markdown",
   "metadata": {},
   "source": [
    "# Module 5.2: Time Series Forecasting\n",
    "\n",
    "So far, we've dealt with data where the order of rows doesn't matter. But what if the data is a sequence of observations recorded over time? This could be daily stock prices, monthly sales figures, or hourly temperature readings. This is **Time Series Data**. 📈\n",
    "\n",
    "**Time Series Forecasting** is the process of analyzing this historical data to identify meaningful patterns and using those patterns to predict future values. It's a critical field used in finance, weather forecasting, supply chain management, and many other industries.\n",
    "\n",
    "**Goal of this Notebook:**\n",
    "We will go deep into the theory and practical application of analyzing time series data. We will cover:\n",
    "\n",
    "1.  **The Anatomy of a Time Series:** Understanding its core components (Trend, Seasonality, Residuals).\n",
    "2.  **The Importance of the Datetime Index:** How to properly structure time series data in Pandas.\n",
    "3.  **Time Series Decomposition:** A powerful technique to visually separate the components of our data."
   ]
  },
  {
   "cell_type": "markdown",
   "metadata": {},
   "source": [
    "## 1. The Anatomy of a Time Series\n",
    "\n",
    "A time series can be broken down into three fundamental components. Understanding these is the key to effective forecasting.\n",
    "\n",
    "* **Trend:** The long-term direction of the data. Is it generally increasing, decreasing, or staying flat over time? For example, the total number of internet users globally has a clear upward trend.\n",
    "\n",
    "* **Seasonality:** A repeating, fixed, and periodic pattern in the data. For example, ice cream sales are consistently higher in the summer months and lower in the winter. This pattern repeats every year.\n",
    "\n",
    "* **Residuals (or Noise):** The random, irregular fluctuations in the data that are not explained by the trend or seasonality. This is the unpredictable component.\n",
    "\n",
    "**The Model:** We can think of a time series as a combination of these parts:\n",
    "\n",
    "$ \\text{Time Series} = \\text{Trend} + \\text{Seasonality} + \\text{Residuals} $\n",
    "\n",
    "Our goal in analysis is to isolate and understand each of these components."
   ]
  },
  {
   "cell_type": "markdown",
   "metadata": {},
   "source": [
    "### Dataset Setup\n",
    "\n",
    "We'll use a classic dataset of monthly milk production. It's a great example because it has a clear trend and seasonality.\n",
    "\n",
    "➡️ **Action:** Go to the `02_Data_Analysis_and_Wrangling/data/` folder. Create a new file named `monthly_milk_production.csv` and paste the following content into it:\n",
    "\n",
    "```csv\n",
    "Date,Production\n",
    "1962-01,589\n",
    "1962-02,561\n",
    "1962-03,640\n",
    "1962-04,656\n",
    "1962-05,727\n",
    "1962-06,697\n",
    "1962-07,640\n",
    "1962-08,599\n",
    "1962-09,568\n",
    "1962-10,577\n",
    "1962-11,553\n",
    "1962-12,582\n",
    "1963-01,600\n",
    "1963-02,566\n",
    "1963-03,653\n",
    "1963-04,673\n",
    "1963-05,742\n",
    "1963-06,716\n",
    "1963-07,660\n",
    "1963-08,617\n",
    "1963-09,583\n",
    "1963-10,587\n",
    "1963-11,565\n",
    "1963-12,598\n",
    "```"
   ]
  },
  {
   "cell_type": "code",
   "execution_count": null,
   "metadata": {},
   "outputs": [],
   "source": [
    "import pandas as pd\n",
    "import matplotlib.pyplot as plt\n",
    "from statsmodels.tsa.seasonal import seasonal_decompose\n",
    "\n",
    "%matplotlib inline\n",
    "plt.style.use('seaborn-v0_8-whitegrid')"
   ]
  },
  {
   "cell_type": "markdown",
   "metadata": {},
   "source": [
    "## 2. The Datetime Index\n",
    "\n",
    "**Theory:** For Pandas to recognize that we are working with time series data, the index of our DataFrame must be a special `DatetimeIndex` type. This unlocks a huge amount of time-based functionality, like resampling, rolling windows, and easy plotting.\n",
    "\n",
    "When we load our CSV, the 'Date' column is just a plain string. We need to explicitly tell Pandas to parse it as a date and set it as the index."
   ]
  },
  {
   "cell_type": "code",
   "execution_count": null,
   "metadata": {},
   "outputs": [],
   "source": [
    "# Load the data\n",
    "df = pd.read_csv('../02_Data_Analysis_and_Wrangling/data/monthly_milk_production.csv')\n",
    "\n",
    "# Step 1: Convert the 'Date' column to a datetime object\n",
    "df['Date'] = pd.to_datetime(df['Date'])\n",
    "\n",
    "# Step 2: Set the 'Date' column as the index\n",
    "df.set_index('Date', inplace=True)\n",
    "\n",
    "print(\"--- DataFrame Info ---\")\n",
    "df.info()\n",
    "print(\"\\n--- First 5 Rows ---\")\n",
    "df.head()"
   ]
  },
  {
   "cell_type": "code",
   "execution_count": null,
   "metadata": {},
   "outputs": [],
   "source": [
    "# With a DatetimeIndex, plotting is easy and the x-axis is automatically formatted.\n",
    "df.plot(figsize=(12, 6))\n",
    "plt.title('Monthly Milk Production')\n",
    "plt.ylabel('Production')\n",
    "plt.show()"
   ]
  },
  {
   "cell_type": "markdown",
   "metadata": {},
   "source": [
    "## 3. Time Series Decomposition\n",
    "\n",
    "**Theory:** Now that our data is properly formatted, we can use a statistical technique to break it down into the three components we discussed: Trend, Seasonality, and Residuals. This is called **decomposition**.\n",
    "\n",
    "It helps us verify our initial assumptions from the plot and quantify the different patterns in the data. We'll use the `seasonal_decompose` function from the `statsmodels` library."
   ]
  },
  {
   "cell_type": "code",
   "execution_count": null,
   "metadata": {},
   "outputs": [],
   "source": [
    "# Decompose the time series\n",
    "# The function returns an object with attributes for each component\n",
    "decomposition = seasonal_decompose(df['Production'], model='additive')\n",
    "\n",
    "# Plot the decomposed components\n",
    "fig = decomposition.plot()\n",
    "fig.set_size_inches(12, 8)\n",
    "plt.show()"
   ]
  },
  {
   "cell_type": "markdown",
   "metadata": {},
   "source": [
    "**Interpretation of the Plots:**\n",
    "* **Observed:** This is our original data.\n",
    "* **Trend:** You can clearly see a steady, long-term increase in milk production over the years.\n",
    "* **Seasonal:** This plot shows a very strong and consistent yearly pattern. Production peaks in the middle of the year and is lowest at the beginning and end.\n",
    "* **Resid:** These are the random fluctuations left over after removing the trend and seasonal components.\n"
   ]
  },
  {
   "cell_type": "markdown",
   "metadata": {},
   "source": [
    "## ✅ What's Next?\n",
    "\n",
    "You now have a solid theoretical and practical understanding of how to handle and analyze time series data. You can identify its core components and use decomposition to isolate them.\n",
    "\n",
    "This is the end of the **`05_Advanced_Topics`** module. The next logical step in a real project would be to use forecasting models (like ARIMA or Prophet) to predict future values based on these identified patterns.\n",
    "\n",
    "Congratulations on completing all the core learning modules! You are now ready to apply these skills to the **`06_Portfolio_Projects`**."
   ]
  }
 ],
 "metadata": {
  "kernelspec": {
   "display_name": "Python 3",
   "language": "python",
   "name": "python3"
  },
  "language_info": {
   "codemirror_mode": {
    "name": "ipython",
    "version": 3
   },
   "file_extension": ".py",
   "mimetype": "text/x-python",
   "name": "python",
   "nbconvert_exporter": "python",
   "pygments_lexer": "ipython3",
   "version": "3.10.9"
  }
 },
 "nbformat": 4,
 "nbformat_minor": 4
}
