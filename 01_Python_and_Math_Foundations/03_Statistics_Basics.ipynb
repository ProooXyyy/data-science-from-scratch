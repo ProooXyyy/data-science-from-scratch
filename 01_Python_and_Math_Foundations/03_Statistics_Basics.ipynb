{
 "cells": [
  {
   "cell_type": "markdown",
   "metadata": {},
   "source": [
    "# Module 1.3: Basic Statistics for Data Science\n",
    "\n",
    "Statistics is the science of collecting, analyzing, and interpreting data. It's the heart of data science, allowing us to move from raw numbers to meaningful insights. 📊\n",
    "\n",
    "In this notebook, we'll focus on **Descriptive Statistics**, which is all about summarizing and describing the main features of a dataset.\n",
    "\n",
    "**Goal of this Notebook:**\n",
    "We'll learn how to calculate and interpret the most common measures used to understand data:\n",
    "\n",
    "1.  **Measures of Central Tendency:** Mean, Median, and Mode.\n",
    "2.  **Measures of Spread/Dispersion:** Variance and Standard Deviation."
   ]
  },
  {
   "cell_type": "markdown",
   "metadata": {},
   "source": [
    "Let's start by creating a simple dataset of people's ages using NumPy."
   ]
  },
  {
   "cell_type": "code",
   "execution_count": null,
   "metadata": {},
   "outputs": [],
   "source": [
    "import numpy as np\n",
    "\n",
    "# A dataset of ages\n",
    "ages = np.array([25, 28, 22, 35, 45, 30, 28, 25, 60, 22])\n",
    "\n",
    "print(f\"Our dataset of ages: {ages}\")"
   ]
  },
  {
   "cell_type": "markdown",
   "metadata": {},
   "source": [
    "## 1. Measures of Central Tendency\n",
    "\n",
    "These measures give us a single value that represents the 'center' or 'typical' value of a dataset.\n",
    "\n",
    "### Mean (Average)\n",
    "The most common measure. It's calculated by summing all values and dividing by the count of values.\n",
    "\n",
    "Formula: $ \\text{Mean} = \\frac{\\sum_{i=1}^{n} x_i}{n} $"
   ]
  },
  {
   "cell_type": "code",
   "execution_count": null,
   "metadata": {},
   "outputs": [],
   "source": [
    "mean_age = np.mean(ages)\n",
    "print(f\"The mean (average) age is: {mean_age}\")"
   ]
  },
  {
   "cell_type": "markdown",
   "metadata": {},
   "source": [
    "### Median (Middle Value)\n",
    "The middle value of a dataset when it's sorted. It's less affected by extreme outliers than the mean.\n",
    "\n",
    "Example: For `[1, 2, 9]`, the median is `2`. For `[1, 2, 8, 10]`, it's the average of `2` and `8`, which is `5`."
   ]
  },
  {
   "cell_type": "code",
   "execution_count": null,
   "metadata": {},
   "outputs": [],
   "source": [
    "median_age = np.median(ages)\n",
    "print(f\"The median age is: {median_age}\")\n",
    "print(f\"Sorted ages: {np.sort(ages)}\")"
   ]
  },
  {
   "cell_type": "markdown",
   "metadata": {},
   "source": [
    "> **Note:** The mean age is 32, but the median is 28. The single high value (60) pulled the mean up. This is why the median is often a better representation of the 'typical' value in skewed datasets."
   ]
  },
  {
   "cell_type": "markdown",
   "metadata": {},
   "source": [
    "### Mode (Most Frequent Value)\n",
    "The value that appears most often in the dataset."
   ]
  },
  {
   "cell_type": "code",
   "execution_count": null,
   "metadata": {},
   "outputs": [],
   "source": [
    "# NumPy doesn't have a built-in mode function, so we'll use SciPy\n",
    "from scipy import stats\n",
    "\n",
    "mode_age = stats.mode(ages)\n",
    "# The result object contains the mode(s) and their count\n",
    "print(f\"The mode of the ages is: {mode_age.mode}\")"
   ]
  },
  {
   "cell_type": "markdown",
   "metadata": {},
   "source": [
    "## 2. Measures of Spread (Dispersion)\n",
    "\n",
    "These measures tell us how spread out our data is. Are the values all clustered together, or are they widely scattered?\n",
    "\n",
    "### Variance\n",
    "The average of the squared differences from the Mean. A higher variance means the data is more spread out.\n",
    "\n",
    "Formula: $ \\sigma^2 = \\frac{\\sum_{i=1}^{n} (x_i - \\mu)^2}{n} $"
   ]
  },
  {
   "cell_type": "code",
   "execution_count": null,
   "metadata": {},
   "outputs": [],
   "source": [
    "variance_age = np.var(ages)\n",
    "print(f\"The variance of the ages is: {variance_age:.2f}\")"
   ]
  },
  {
   "cell_type": "markdown",
   "metadata": {},
   "source": [
    "### Standard Deviation\n",
    "This is the square root of the variance. It's the most common measure of spread and is easier to interpret because it's in the **same units as the original data**.\n",
    "\n",
    "A simple interpretation: A low standard deviation means values are close to the mean. A high standard deviation means values are spread out over a wider range.\n",
    "\n",
    "Formula: $ \\sigma = \\sqrt{\\frac{\\sum_{i=1}^{n} (x_i - \\mu)^2}{n}} $"
   ]
  },
  {
   "cell_type": "code",
   "execution_count": null,
   "metadata": {},
   "outputs": [],
   "source": [
    "std_dev_age = np.std(ages)\n",
    "print(f\"The standard deviation of the ages is: {std_dev_age:.2f}\")\n",
    "print(f\"This means a typical age is roughly {mean_age:.2f} ± {std_dev_age:.2f} years.\")"
   ]
  },
  {
   "cell_type": "markdown",
   "metadata": {},
   "source": [
    "## ✅ What's Next?\n",
    "\n",
    "Fantastic! You've now completed the entire **`01_Python_and_Math_Foundations`** module. You've covered the basics of Python programming, the mathematical objects we use (vectors/matrices), and the statistical methods to describe them.\n",
    "\n",
    "With this foundation, we are ready to tackle the most important libraries for data manipulation. In the next module, **`02_Data_Analysis_and_Wrangling`**, we'll dive deep into **NumPy** and **Pandas**."
   ]
  }
 ],
 "metadata": {
  "kernelspec": {
   "display_name": "Python 3",
   "language": "python",
   "name": "python3"
  },
  "language_info": {
   "codemirror_mode": {
    "name": "ipython",
    "version": 3
   },
   "file_extension": ".py",
   "mimetype": "text/x-python",
   "name": "python",
   "nbconvert_exporter": "python",
   "pygments_lexer": "ipython3",
   "version": "3.10.9"
  }
 },
 "nbformat": 4,
 "nbformat_minor": 4
}