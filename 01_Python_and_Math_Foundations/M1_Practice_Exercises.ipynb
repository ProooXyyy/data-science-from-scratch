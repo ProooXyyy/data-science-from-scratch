{
 "cells": [
  {
   "cell_type": "markdown",
   "metadata": {},
   "source": [
    "# Module 1: Practice Exercises\n",
    "\n",
    "Welcome to the practice exercises for Module 1. These questions are designed to test your understanding of the core concepts of Python basics, Linear Algebra, and Statistics.\n",
    "\n",
    "**Instructions:**\n",
    "1.  For each problem, read the description and write the necessary code in the cell below it.\n",
    "2.  Run the cell to see the output and check if your solution is correct.\n",
    "3.  Solutions are provided at the end of the notebook for you to compare against."
   ]
  },
  {
   "cell_type": "markdown",
   "metadata": {},
   "source": [
    "---"
   ]
  },
  {
   "cell_type": "markdown",
   "metadata": {},
   "source": [
    "### Exercise 1: Python Data Structures\n",
    "\n",
    "**Task:** Create a Python dictionary representing a car. The dictionary should have the following keys and values:\n",
    "- `brand`: \"Ford\"\n",
    "- `model`: \"Mustang\"\n",
    "- `year`: 1964\n",
    "- `is_electric`: False\n",
    "\n",
    "After creating the dictionary, add a new key-value pair for `color`: \"Red\" and print the entire dictionary."
   ]
  },
  {
   "cell_type": "code",
   "execution_count": null,
   "metadata": {},
   "outputs": [],
   "source": [
    "# Your code here"
   ]
  },
  {
   "cell_type": "markdown",
   "metadata": {},
   "source": [
    "### Exercise 2: Python Loops and Conditionals\n",
    "\n",
    "**Task:** You are given a list of student scores. Write a `for` loop that iterates through the list and prints \"Passing\" for any score 60 or higher, and \"Failing\" for any score below 60."
   ]
  },
  {
   "cell_type": "code",
   "execution_count": null,
   "metadata": {},
   "outputs": [],
   "source": [
    "scores = [85, 92, 58, 77, 60, 45, 68]\n",
    "\n",
    "# Your code here"
   ]
  },
  {
   "cell_type": "markdown",
   "metadata": {},
   "source": [
    "### Exercise 3: Python Functions\n",
    "\n",
    "**Task:** Write a Python function called `get_circle_area` that takes the `radius` of a circle as an argument and returns its area. The formula for the area of a circle is $A = \\pi r^2$. \n",
    "\n",
    "You can use `3.14159` for the value of $\\pi$. Test your function by calling it with a radius of 5."
   ]
  },
  {
   "cell_type": "code",
   "execution_count": null,
   "metadata": {},
   "outputs": [],
   "source": [
    "# Your code here"
   ]
  },
  {
   "cell_type": "markdown",
   "metadata": {},
   "source": [
    "### Exercise 4: NumPy Array Creation\n",
    "\n",
    "**Task:** Using NumPy, create a 3x3 matrix where the values range from 1 to 9. Then, print the matrix and its shape."
   ]
  },
  {
   "cell_type": "code",
   "execution_count": null,
   "metadata": {},
   "outputs": [],
   "source": [
    "import numpy as np\n",
    "\n",
    "# Your code here"
   ]
  },
  {
   "cell_type": "markdown",
   "metadata": {},
   "source": [
    "### Exercise 5: Basic Statistics with NumPy\n",
    "\n",
    "**Task:** You are given a NumPy array of house prices. Calculate and print the following descriptive statistics:\n",
    "- Mean price\n",
    "- Median price\n",
    "- Standard Deviation of the prices"
   ]
  },
  {
   "cell_type": "code",
   "execution_count": null,
   "metadata": {},
   "outputs": [],
   "source": [
    "house_prices = np.array([250000, 300000, 275000, 450000, 220000, 310000, 600000])\n",
    "\n",
    "# Your code here"
   ]
  },
  {
   "cell_type": "markdown",
   "metadata": {},
   "source": [
    "---"
   ]
  },
  {
   "cell_type": "markdown",
   "metadata": {},
   "source": [
    "## Solutions"
   ]
  },
  {
   "cell_type": "markdown",
   "metadata": {},
   "source": [
    "**Solution 1:**\n",
    "```python\n",
    "car = {\n",
    "    \"brand\": \"Ford\",\n",
    "    \"model\": \"Mustang\",\n",
    "    \"year\": 1964,\n",
    "    \"is_electric\": False\n",
    "}\n",
    "car[\"color\"] = \"Red\"\n",
    "print(car)\n",
    "```"
   ]
  },
  {
   "cell_type": "markdown",
   "metadata": {},
   "source": [
    "**Solution 2:**\n",
    "```python\n",
    "scores = [85, 92, 58, 77, 60, 45, 68]\n",
    "for score in scores:\n",
    "    if score >= 60:\n",
    "        print(f\"{score}: Passing\")\n",
    "    else:\n",
    "        print(f\"{score}: Failing\")\n",
    "```"
   ]
  },
  {
   "cell_type": "markdown",
   "metadata": {},
   "source": [
    "**Solution 3:**\n",
    "```python\n",
    "def get_circle_area(radius):\n",
    "    pi = 3.14159\n",
    "    return pi * (radius ** 2)\n",
    "\n",
    "area = get_circle_area(5)\n",
    "print(f\"The area of a circle with radius 5 is: {area}\")\n",
    "```"
   ]
  },
  {
   "cell_type": "markdown",
   "metadata": {},
   "source": [
    "**Solution 4:**\n",
    "```python\n",
    "import numpy as np\n",
    "matrix = np.arange(1, 10).reshape(3, 3)\n",
    "print(\"Matrix:\")\n",
    "print(matrix)\n",
    "print(f\"\\nShape of matrix: {matrix.shape}\")\n",
    "```"
   ]
  },
  {
   "cell_type": "markdown",
   "metadata": {},
   "source": [
    "**Solution 5:**\n",
    "```python\n",
    "house_prices = np.array([250000, 300000, 275000, 450000, 220000, 310000, 600000])\n",
    "mean_price = np.mean(house_prices)\n",
    "median_price = np.median(house_prices)\n",
    "std_dev = np.std(house_prices)\n",
    "\n",
    "print(f\"Mean Price: ${mean_price:,.2f}\")\n",
    "print(f\"Median Price: ${median_price:,.2f}\")\n",
    "print(f\"Standard Deviation: ${std_dev:,.2f}\")\n",
    "```"
   ]
  }
 ],
 "metadata": {
  "kernelspec": {
   "display_name": "Python 3",
   "language": "python",
   "name": "python3"
  },
  "language_info": {
   "codemirror_mode": {
    "name": "ipython",
    "version": 3
   },
   "file_extension": ".py",
   "mimetype": "text/x-python",
   "name": "python",
   "nbconvert_exporter": "python",
   "pygments_lexer": "ipython3",
   "version": "3.10.9"
  }
 },
 "nbformat": 4,
 "nbformat_minor": 4
}