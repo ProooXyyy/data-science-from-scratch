{
 "cells": [
  {
   "cell_type": "markdown",
   "metadata": {},
   "source": [
    "# Module 1.2: Essential Linear Algebra for Data Science\n",
    "\n",
    "Don't let the name intimidate you! **Linear Algebra** is the mathematics of data. It gives us a framework and a language to work with groups of numbers, like the rows and columns in a spreadsheet.\n",
    "\n",
    "Understanding the basics, like vectors and matrices, is crucial because nearly all data in data science and machine learning is represented in this way. 📈\n",
    "\n",
    "**Goal of this Notebook:**\n",
    "We will cover the absolute essentials in a practical way, focusing on intuition rather than deep mathematical proofs. We'll learn:\n",
    "\n",
    "1.  What Scalars, Vectors, and Matrices are.\n",
    "2.  How to create them using the **NumPy** library.\n",
    "3.  Basic vector and matrix operations."
   ]
  },
  {
   "cell_type": "markdown",
   "metadata": {},
   "source": [
    "## Quick Intro to NumPy\n",
    "\n",
    "**NumPy** (Numerical Python) is the foundational library for scientific computing in Python. It provides a high-performance object called an `array` which is perfect for mathematical operations. We'll be using NumPy extensively."
   ]
  },
  {
   "cell_type": "code",
   "execution_count": null,
   "metadata": {},
   "outputs": [],
   "source": [
    "# It's standard practice to import numpy with the alias 'np'\n",
    "import numpy as np"
   ]
  },
  {
   "cell_type": "markdown",
   "metadata": {},
   "source": [
    "## 1. Scalars, Vectors, and Matrices\n",
    "\n",
    "Let's define these terms with simple analogies.\n",
    "\n",
    "* **Scalar:** A single number. Think of the temperature today or the price of an item. \n",
    "    * Example: `5`\n",
    "\n",
    "* **Vector:** An ordered list of numbers. Think of a single row or column in a spreadsheet, like a person's height, weight, and age. It has a magnitude and direction.\n",
    "    * Example: `[height, weight, age]` -> `[175, 70, 30]`\n",
    "\n",
    "* **Matrix:** A grid or table of numbers (a collection of vectors). Think of an entire spreadsheet with multiple rows and columns.\n",
    "    * Example: Multiple people's data\n",
    "        ```\n",
    "        [[175, 70, 30],  # Person 1\n",
    "         [160, 55, 25],  # Person 2\n",
    "         [185, 80, 42]]  # Person 3\n",
    "        ```"
   ]
  },
  {
   "cell_type": "markdown",
   "metadata": {},
   "source": [
    "### Creating them with NumPy"
   ]
  },
  {
   "cell_type": "code",
   "execution_count": null,
   "metadata": {},
   "outputs": [],
   "source": [
    "# A scalar is just a regular variable\n",
    "scalar = 15\n",
    "print(f\"Scalar:\\n{scalar}\\n\")\n",
    "\n",
    "# A vector is a 1-dimensional NumPy array\n",
    "vector = np.array([175, 70, 30])\n",
    "print(f\"Vector:\\n{vector}\\n\")\n",
    "\n",
    "# A matrix is a 2-dimensional NumPy array\n",
    "matrix = np.array([\n",
    "    [175, 70, 30],\n",
    "    [160, 55, 25],\n",
    "    [185, 80, 42]\n",
    "])\n",
    "print(f\"Matrix:\\n{matrix}\")"
   ]
  },
  {
   "cell_type": "markdown",
   "metadata": {},
   "source": [
    "We can check the 'shape' of our data to understand its dimensions."
   ]
  },
  {
   "cell_type": "code",
   "execution_count": null,
   "metadata": {},
   "outputs": [],
   "source": [
    "# The shape of a vector shows it has one dimension with 3 elements\n",
    "print(f\"Shape of our vector: {vector.shape}\")\n",
    "\n",
    "# The shape of a matrix shows its rows and columns\n",
    "print(f\"Shape of our matrix: {matrix.shape}\")"
   ]
  },
  {
   "cell_type": "markdown",
   "metadata": {},
   "source": [
    "## 2. Basic Operations\n",
    "\n",
    "NumPy's power comes from its ability to perform mathematical operations on entire arrays at once, which is incredibly fast and efficient."
   ]
  },
  {
   "cell_type": "code",
   "execution_count": null,
   "metadata": {},
   "outputs": [],
   "source": [
    "# Let's create two simple vectors\n",
    "v1 = np.array([1, 2, 3])\n",
    "v2 = np.array([4, 5, 6])\n",
    "\n",
    "# Element-wise addition\n",
    "v_sum = v1 + v2\n",
    "print(f\"Vector Addition (v1 + v2): {v_sum}\")\n",
    "\n",
    "# Scalar multiplication (multiply every element by a scalar)\n",
    "v_mult = v1 * 5\n",
    "print(f\"Scalar Multiplication (v1 * 5): {v_mult}\")"
   ]
  },
  {
   "cell_type": "markdown",
   "metadata": {},
   "source": [
    "## Why This Matters\n",
    "\n",
    "Imagine our matrix represents data about three houses: `[Area, Bedrooms, Price]`.\n",
    "\n",
    "Linear algebra allows us to perform powerful calculations. For example, a machine learning model might learn a vector of `weights` (e.g., `[500, 10000, 0]`) to predict a house price. The prediction would involve multiplying the matrix by this weight vector.\n",
    "\n",
    "Don't worry about the complex math now. The key takeaway is that **vectors and matrices are how we store and manipulate data.** NumPy handles the heavy lifting for us."
   ]
  },
  {
   "cell_type": "markdown",
   "metadata": {},
   "source": [
    "## ✅ What's Next?\n",
    "\n",
    "We've briefly touched on the 'how' of storing data. Next, we'll explore the 'what' and 'why' with **Basic Statistics**. We'll learn how to describe and summarize our data, which is the first step in any analysis."
   ]
  }
 ],
 "metadata": {
  "kernelspec": {
   "display_name": "Python 3",
   "language": "python",
   "name": "python3"
  },
  "language_info": {
   "codemirror_mode": {
    "name": "ipython",
    "version": 3
   },
   "file_extension": ".py",
   "mimetype": "text/x-python",
   "name": "python",
   "nbconvert_exporter": "python",
   "pygments_lexer": "ipython3",
   "version": "3.10.9"
  }
 },
 "nbformat": 4,
 "nbformat_minor": 4
}