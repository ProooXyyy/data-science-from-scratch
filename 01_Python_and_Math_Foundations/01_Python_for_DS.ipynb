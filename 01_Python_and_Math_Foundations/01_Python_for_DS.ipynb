{
 "cells": [
  {
   "cell_type": "markdown",
   "metadata": {},
   "source": [
    "# Module 1.1: Python Fundamentals for Data Science\n",
    "\n",
    "Welcome to the first hands-on coding module! Before we can analyze data or build machine learning models, we need a solid grasp of the basics of our primary tool: **Python**. 🐍\n",
    "\n",
    "**Why Python?**\n",
    "Python is the dominant language in data science because it's powerful, easy to read, and has an incredible ecosystem of libraries (like Pandas, NumPy, and Scikit-learn) that we'll use extensively.\n",
    "\n",
    "**Goal of this Notebook:**\n",
    "This is not a comprehensive Python course. Instead, it's a focused primer on the absolute essential concepts you'll need 95% of the time for data science tasks. We'll cover:\n",
    "\n",
    "1.  Basic Data Types\n",
    "2.  Essential Data Structures (Lists & Dictionaries)\n",
    "3.  Control Flow (Loops & Conditionals)\n",
    "4.  Functions"
   ]
  },
  {
   "cell_type": "markdown",
   "metadata": {},
   "source": [
    "## 1. Basic Data Types\n",
    "\n",
    "These are the fundamental building blocks for storing information."
   ]
  },
  {
   "cell_type": "code",
   "execution_count": null,
   "metadata": {},
   "outputs": [],
   "source": [
    "# Integers are whole numbers\n",
    "a = 10\n",
    "\n",
    "# Floats are numbers with decimal points\n",
    "b = 3.14\n",
    "\n",
    "# Strings are text, enclosed in single or double quotes\n",
    "c = \"Hello, Data Science!\"\n",
    "\n",
    "# Booleans are truth values\n",
    "d = True\n",
    "\n",
    "# We can check the type of any variable using the type() function\n",
    "print(f\"'a' is of type: {type(a)}\")\n",
    "print(f\"'b' is of type: {type(b)}\")\n",
    "print(f\"'c' is of type: {type(c)}\")\n",
    "print(f\"'d' is of type: {type(d)}\")"
   ]
  },
  {
   "cell_type": "markdown",
   "metadata": {},
   "source": [
    "## 2. Essential Data Structures\n",
    "\n",
    "Data structures allow us to store and organize collections of data. For data science, lists and dictionaries are the most important."
   ]
  },
  {
   "cell_type": "markdown",
   "metadata": {},
   "source": [
    "### Lists\n",
    "\n",
    "A list is an ordered, changeable collection of items. They are defined with square brackets `[]`."
   ]
  },
  {
   "cell_type": "code",
   "execution_count": null,
   "metadata": {},
   "outputs": [],
   "source": [
    "# A list of numbers\n",
    "my_list = [1, 5, 10, 15, 20]\n",
    "print(f\"Original list: {my_list}\")\n",
    "\n",
    "# Access elements by their index (Python is 0-indexed!)\n",
    "first_element = my_list[0]  # Accesses the first item\n",
    "print(f\"The first element is: {first_element}\")\n",
    "\n",
    "# Add an item to the end of the list\n",
    "my_list.append(25)\n",
    "print(f\"List after appending 25: {my_list}\")"
   ]
  },
  {
   "cell_type": "markdown",
   "metadata": {},
   "source": [
    "### Dictionaries\n",
    "\n",
    "A dictionary is an unordered collection of `key:value` pairs. They are defined with curly braces `{}` and are extremely useful for storing labeled data."
   ]
  },
  {
   "cell_type": "code",
   "execution_count": null,
   "metadata": {},
   "outputs": [],
   "source": [
    "# A dictionary representing a person\n",
    "person = {\n",
    "    \"name\": \"Alice\",\n",
    "    \"age\": 30,\n",
    "    \"city\": \"New York\"\n",
    "}\n",
    "print(f\"Original dictionary: {person}\")\n",
    "\n",
    "# Access a value by its key\n",
    "persons_age = person[\"age\"]\n",
    "print(f\"Alice's age is: {persons_age}\")\n",
    "\n",
    "# Add a new key-value pair\n",
    "person[\"job\"] = \"Data Scientist\"\n",
    "print(f\"Dictionary after adding job: {person}\")"
   ]
  },
  {
   "cell_type": "markdown",
   "metadata": {},
   "source": [
    "## 3. Control Flow\n",
    "\n",
    "Control flow allows us to execute code only when certain conditions are met (`if`/`else`) or to repeat code multiple times (`for` loops)."
   ]
  },
  {
   "cell_type": "code",
   "execution_count": null,
   "metadata": {},
   "outputs": [],
   "source": [
    "# Example of an if-elif-else statement\n",
    "age = 25\n",
    "\n",
    "if age < 18:\n",
    "    print(\"Minor\")\n",
    "elif age >= 18 and age < 65:\n",
    "    print(\"Adult\")\n",
    "else:\n",
    "    print(\"Senior\")"
   ]
  },
  {
   "cell_type": "code",
   "execution_count": null,
   "metadata": {},
   "outputs": [],
   "source": [
    "# Example of a for loop to iterate over a list\n",
    "numbers = [1, 2, 3, 4, 5]\n",
    "sum_of_numbers = 0\n",
    "\n",
    "for num in numbers:\n",
    "    sum_of_numbers += num  # This is shorthand for sum_of_numbers = sum_of_numbers + num\n",
    "\n",
    "print(f\"The sum of the list is: {sum_of_numbers}\")"
   ]
  },
  {
   "cell_type": "markdown",
   "metadata": {},
   "source": [
    "## 4. Functions\n",
    "\n",
    "Functions are reusable blocks of code that perform a specific action. They help keep our code organized and prevent repetition."
   ]
  },
  {
   "cell_type": "code",
   "execution_count": null,
   "metadata": {},
   "outputs": [],
   "source": [
    "# Define a simple function that takes two numbers and returns their sum\n",
    "def add_numbers(x, y):\n",
    "    \"\"\"This function adds two numbers together.\"\"\"\n",
    "    result = x + y\n",
    "    return result\n",
    "\n",
    "# Call the function with some arguments\n",
    "sum_result = add_numbers(10, 5)\n",
    "print(f\"The result of the function is: {sum_result}\")"
   ]
  },
  {
   "cell_type": "markdown",
   "metadata": {},
   "source": [
    "## ✅ What's Next?\n",
    "\n",
    "Excellent! You've just covered the core Python constructs that form the bedrock of data science programming. While Python is a deep language, these fundamentals are what you'll use every single day.\n",
    "\n",
    "In the next notebook, we'll dive into **Linear Algebra** to understand the mathematical objects we work with, like vectors and matrices."
   ]
  }
 ],
 "metadata": {
  "kernelspec": {
   "display_name": "Python 3",
   "language": "python",
   "name": "python3"
  },
  "language_info": {
   "codemirror_mode": {
    "name": "ipython",
    "version": 3
   },
   "file_extension": ".py",
   "mimetype": "text/x-python",
   "name": "python",
   "nbconvert_exporter": "python",
   "pygments_lexer": "ipython3",
   "version": "3.10.9"
  }
 },
 "nbformat": 4,
 "nbformat_minor": 4
}